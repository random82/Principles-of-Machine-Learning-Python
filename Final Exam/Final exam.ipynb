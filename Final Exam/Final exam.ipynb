{
 "cells": [
  {
   "cell_type": "code",
   "execution_count": 1,
   "metadata": {},
   "outputs": [],
   "source": [
    "import pandas as pd\n",
    "import numpy as np\n",
    "import numpy.random as nr\n",
    "import seaborn as sns\n",
    "from sklearn.cluster import KMeans, AgglomerativeClustering\n",
    "from sklearn.metrics import silhouette_score\n",
    "from sklearn.preprocessing import StandardScaler\n",
    "import matplotlib.pyplot as plt\n",
    "\n",
    "%matplotlib inline"
   ]
  },
  {
   "cell_type": "code",
   "execution_count": 2,
   "metadata": {},
   "outputs": [],
   "source": [
    "df_aw_custs = pd.read_csv('./AdvWorksCusts.csv')\n",
    "df_aw_spend = pd.read_csv('./AW_AveMonthSpend.csv')\n",
    "df_aw_bike_buyer = pd.read_csv('./AW_BikeBuyer.csv')"
   ]
  },
  {
   "cell_type": "code",
   "execution_count": 3,
   "metadata": {},
   "outputs": [
    {
     "name": "stdout",
     "output_type": "stream",
     "text": [
      "   CustomerID Title  FirstName MiddleName LastName Suffix  \\\n",
      "0       11000   NaN        Jon          V     Yang    NaN   \n",
      "1       11001   NaN     Eugene          L    Huang    NaN   \n",
      "2       11002   NaN      Ruben        NaN   Torres    NaN   \n",
      "3       11003   NaN    Christy        NaN      Zhu    NaN   \n",
      "4       11004   NaN  Elizabeth        NaN  Johnson    NaN   \n",
      "\n",
      "          AddressLine1 AddressLine2         City StateProvinceName  \\\n",
      "0      3761 N. 14th St          NaN  Rockhampton        Queensland   \n",
      "1           2243 W St.          NaN      Seaford          Victoria   \n",
      "2     5844 Linden Land          NaN       Hobart          Tasmania   \n",
      "3     1825 Village Pl.          NaN   North Ryde   New South Wales   \n",
      "4  7553 Harness Circle          NaN   Wollongong   New South Wales   \n",
      "\n",
      "       ...        BirthDate   Education    Occupation Gender MaritalStatus  \\\n",
      "0      ...       1966-04-08  Bachelors   Professional      M             M   \n",
      "1      ...       1965-05-14  Bachelors   Professional      M             S   \n",
      "2      ...       1965-08-12  Bachelors   Professional      M             M   \n",
      "3      ...       1968-02-15  Bachelors   Professional      F             S   \n",
      "4      ...       1968-08-08  Bachelors   Professional      F             S   \n",
      "\n",
      "  HomeOwnerFlag NumberCarsOwned NumberChildrenAtHome  TotalChildren  \\\n",
      "0             1               0                    0              2   \n",
      "1             0               1                    3              3   \n",
      "2             1               1                    3              3   \n",
      "3             0               1                    0              0   \n",
      "4             1               4                    5              5   \n",
      "\n",
      "   YearlyIncome  \n",
      "0        137947  \n",
      "1        101141  \n",
      "2         91945  \n",
      "3         86688  \n",
      "4         92771  \n",
      "\n",
      "[5 rows x 23 columns]\n",
      "   CustomerID  AveMonthSpend\n",
      "0       11000             89\n",
      "1       11001            117\n",
      "2       11002            123\n",
      "3       11003             50\n",
      "4       11004             95\n",
      "   CustomerID  BikeBuyer\n",
      "0       11000          0\n",
      "1       11001          1\n",
      "2       11002          0\n",
      "3       11003          0\n",
      "4       11004          1\n"
     ]
    }
   ],
   "source": [
    "print(df_aw_custs.head())\n",
    "print(df_aw_spend.head())\n",
    "print(df_aw_bike_buyer.head())"
   ]
  },
  {
   "cell_type": "code",
   "execution_count": 4,
   "metadata": {},
   "outputs": [
    {
     "name": "stdout",
     "output_type": "stream",
     "text": [
      "         CustomerID  AveMonthSpend\n",
      "count  16519.000000   16519.000000\n",
      "mean   20234.225195      72.405957\n",
      "std     5342.515987      27.285370\n",
      "min    11000.000000      22.000000\n",
      "25%    15604.500000      52.000000\n",
      "50%    20221.000000      68.000000\n",
      "75%    24860.500000      84.000000\n",
      "max    29482.000000     176.000000\n",
      "(16519, 2)\n",
      "(16404,)\n"
     ]
    }
   ],
   "source": [
    "print(df_aw_spend.describe())\n",
    "print(df_aw_spend.shape)\n",
    "print(df_aw_spend.CustomerID.unique().shape)"
   ]
  },
  {
   "cell_type": "code",
   "execution_count": 5,
   "metadata": {},
   "outputs": [],
   "source": [
    "df_aw_spend.drop_duplicates(inplace=True, keep='last', subset=\"CustomerID\")\n"
   ]
  },
  {
   "cell_type": "code",
   "execution_count": 6,
   "metadata": {},
   "outputs": [
    {
     "data": {
      "text/html": [
       "<div>\n",
       "<style scoped>\n",
       "    .dataframe tbody tr th:only-of-type {\n",
       "        vertical-align: middle;\n",
       "    }\n",
       "\n",
       "    .dataframe tbody tr th {\n",
       "        vertical-align: top;\n",
       "    }\n",
       "\n",
       "    .dataframe thead th {\n",
       "        text-align: right;\n",
       "    }\n",
       "</style>\n",
       "<table border=\"1\" class=\"dataframe\">\n",
       "  <thead>\n",
       "    <tr style=\"text-align: right;\">\n",
       "      <th></th>\n",
       "      <th>CustomerID</th>\n",
       "      <th>AveMonthSpend</th>\n",
       "    </tr>\n",
       "  </thead>\n",
       "  <tbody>\n",
       "    <tr>\n",
       "      <th>count</th>\n",
       "      <td>16404.000000</td>\n",
       "      <td>16404.000000</td>\n",
       "    </tr>\n",
       "    <tr>\n",
       "      <th>mean</th>\n",
       "      <td>20240.143136</td>\n",
       "      <td>72.391002</td>\n",
       "    </tr>\n",
       "    <tr>\n",
       "      <th>std</th>\n",
       "      <td>5340.370705</td>\n",
       "      <td>27.269921</td>\n",
       "    </tr>\n",
       "    <tr>\n",
       "      <th>min</th>\n",
       "      <td>11000.000000</td>\n",
       "      <td>22.000000</td>\n",
       "    </tr>\n",
       "    <tr>\n",
       "      <th>25%</th>\n",
       "      <td>15617.750000</td>\n",
       "      <td>52.000000</td>\n",
       "    </tr>\n",
       "    <tr>\n",
       "      <th>50%</th>\n",
       "      <td>20231.500000</td>\n",
       "      <td>68.000000</td>\n",
       "    </tr>\n",
       "    <tr>\n",
       "      <th>75%</th>\n",
       "      <td>24862.250000</td>\n",
       "      <td>84.000000</td>\n",
       "    </tr>\n",
       "    <tr>\n",
       "      <th>max</th>\n",
       "      <td>29482.000000</td>\n",
       "      <td>176.000000</td>\n",
       "    </tr>\n",
       "  </tbody>\n",
       "</table>\n",
       "</div>"
      ],
      "text/plain": [
       "         CustomerID  AveMonthSpend\n",
       "count  16404.000000   16404.000000\n",
       "mean   20240.143136      72.391002\n",
       "std     5340.370705      27.269921\n",
       "min    11000.000000      22.000000\n",
       "25%    15617.750000      52.000000\n",
       "50%    20231.500000      68.000000\n",
       "75%    24862.250000      84.000000\n",
       "max    29482.000000     176.000000"
      ]
     },
     "execution_count": 6,
     "metadata": {},
     "output_type": "execute_result"
    }
   ],
   "source": [
    "df_aw_spend.describe()"
   ]
  },
  {
   "cell_type": "code",
   "execution_count": 7,
   "metadata": {},
   "outputs": [
    {
     "data": {
      "text/plain": [
       "72.39100219458669"
      ]
     },
     "execution_count": 7,
     "metadata": {},
     "output_type": "execute_result"
    }
   ],
   "source": [
    "df_aw_spend.AveMonthSpend.mean()"
   ]
  },
  {
   "cell_type": "code",
   "execution_count": 8,
   "metadata": {},
   "outputs": [
    {
     "data": {
      "text/plain": [
       "68.0"
      ]
     },
     "execution_count": 8,
     "metadata": {},
     "output_type": "execute_result"
    }
   ],
   "source": [
    "df_aw_spend.AveMonthSpend.median()"
   ]
  },
  {
   "cell_type": "code",
   "execution_count": 9,
   "metadata": {},
   "outputs": [
    {
     "name": "stdout",
     "output_type": "stream",
     "text": [
      "         CustomerID     BikeBuyer\n",
      "count  16519.000000  16519.000000\n",
      "mean   20234.225195      0.332284\n",
      "std     5342.515987      0.471046\n",
      "min    11000.000000      0.000000\n",
      "25%    15604.500000      0.000000\n",
      "50%    20221.000000      0.000000\n",
      "75%    24860.500000      1.000000\n",
      "max    29482.000000      1.000000\n",
      "(16519, 2)\n",
      "(16404,)\n"
     ]
    }
   ],
   "source": [
    "print(df_aw_bike_buyer.describe())\n",
    "print(df_aw_bike_buyer.shape)\n",
    "print(df_aw_bike_buyer.CustomerID.unique().shape)"
   ]
  },
  {
   "cell_type": "code",
   "execution_count": 10,
   "metadata": {},
   "outputs": [],
   "source": [
    "df_aw_bike_buyer.drop_duplicates(inplace=True, keep='last', subset=\"CustomerID\")"
   ]
  },
  {
   "cell_type": "code",
   "execution_count": 11,
   "metadata": {},
   "outputs": [
    {
     "data": {
      "text/plain": [
       "<matplotlib.axes._subplots.AxesSubplot at 0x1e5bcbe3358>"
      ]
     },
     "execution_count": 11,
     "metadata": {},
     "output_type": "execute_result"
    },
    {
     "data": {
      "image/png": "[encoded data removed]",
      "text/plain": [
       "<Figure size 432x288 with 1 Axes>"
      ]
     },
     "metadata": {},
     "output_type": "display_data"
    }
   ],
   "source": [
    "df_aw_bike_buyer.BikeBuyer.hist()"
   ]
  },
  {
   "cell_type": "code",
   "execution_count": 12,
   "metadata": {},
   "outputs": [
    {
     "name": "stdout",
     "output_type": "stream",
     "text": [
      "(16519, 23)\n",
      "(16404,)\n"
     ]
    }
   ],
   "source": [
    "print(df_aw_custs.shape)\n",
    "print(df_aw_custs.CustomerID.unique().shape)"
   ]
  },
  {
   "cell_type": "code",
   "execution_count": 13,
   "metadata": {},
   "outputs": [],
   "source": [
    "df_aw_custs.drop_duplicates(inplace=True, keep='last', subset=\"CustomerID\")"
   ]
  },
  {
   "cell_type": "code",
   "execution_count": 14,
   "metadata": {},
   "outputs": [
    {
     "data": {
      "text/html": [
       "<div>\n",
       "<style scoped>\n",
       "    .dataframe tbody tr th:only-of-type {\n",
       "        vertical-align: middle;\n",
       "    }\n",
       "\n",
       "    .dataframe tbody tr th {\n",
       "        vertical-align: top;\n",
       "    }\n",
       "\n",
       "    .dataframe thead th {\n",
       "        text-align: right;\n",
       "    }\n",
       "</style>\n",
       "<table border=\"1\" class=\"dataframe\">\n",
       "  <thead>\n",
       "    <tr style=\"text-align: right;\">\n",
       "      <th></th>\n",
       "      <th>YearlyIncome</th>\n",
       "    </tr>\n",
       "    <tr>\n",
       "      <th>Occupation</th>\n",
       "      <th></th>\n",
       "    </tr>\n",
       "  </thead>\n",
       "  <tbody>\n",
       "    <tr>\n",
       "      <th>Clerical</th>\n",
       "      <td>49481.0</td>\n",
       "    </tr>\n",
       "    <tr>\n",
       "      <th>Management</th>\n",
       "      <td>118781.0</td>\n",
       "    </tr>\n",
       "    <tr>\n",
       "      <th>Manual</th>\n",
       "      <td>21722.0</td>\n",
       "    </tr>\n",
       "    <tr>\n",
       "      <th>Professional</th>\n",
       "      <td>99058.0</td>\n",
       "    </tr>\n",
       "    <tr>\n",
       "      <th>Skilled Manual</th>\n",
       "      <td>66471.5</td>\n",
       "    </tr>\n",
       "  </tbody>\n",
       "</table>\n",
       "</div>"
      ],
      "text/plain": [
       "                YearlyIncome\n",
       "Occupation                  \n",
       "Clerical             49481.0\n",
       "Management          118781.0\n",
       "Manual               21722.0\n",
       "Professional         99058.0\n",
       "Skilled Manual       66471.5"
      ]
     },
     "execution_count": 14,
     "metadata": {},
     "output_type": "execute_result"
    }
   ],
   "source": [
    "df_aw_custs[[\"YearlyIncome\", \"Occupation\"]].groupby(\"Occupation\").median()"
   ]
  },
  {
   "cell_type": "code",
   "execution_count": 15,
   "metadata": {},
   "outputs": [
    {
     "data": {
      "text/html": [
       "<div>\n",
       "<style scoped>\n",
       "    .dataframe tbody tr th:only-of-type {\n",
       "        vertical-align: middle;\n",
       "    }\n",
       "\n",
       "    .dataframe tbody tr th {\n",
       "        vertical-align: top;\n",
       "    }\n",
       "\n",
       "    .dataframe thead th {\n",
       "        text-align: right;\n",
       "    }\n",
       "</style>\n",
       "<table border=\"1\" class=\"dataframe\">\n",
       "  <thead>\n",
       "    <tr style=\"text-align: right;\">\n",
       "      <th></th>\n",
       "      <th>CustomerID</th>\n",
       "      <th>AveMonthSpend</th>\n",
       "    </tr>\n",
       "  </thead>\n",
       "  <tbody>\n",
       "    <tr>\n",
       "      <th>0</th>\n",
       "      <td>11000</td>\n",
       "      <td>89</td>\n",
       "    </tr>\n",
       "    <tr>\n",
       "      <th>1</th>\n",
       "      <td>11001</td>\n",
       "      <td>117</td>\n",
       "    </tr>\n",
       "    <tr>\n",
       "      <th>2</th>\n",
       "      <td>11002</td>\n",
       "      <td>123</td>\n",
       "    </tr>\n",
       "    <tr>\n",
       "      <th>3</th>\n",
       "      <td>11003</td>\n",
       "      <td>50</td>\n",
       "    </tr>\n",
       "    <tr>\n",
       "      <th>4</th>\n",
       "      <td>11004</td>\n",
       "      <td>95</td>\n",
       "    </tr>\n",
       "  </tbody>\n",
       "</table>\n",
       "</div>"
      ],
      "text/plain": [
       "   CustomerID  AveMonthSpend\n",
       "0       11000             89\n",
       "1       11001            117\n",
       "2       11002            123\n",
       "3       11003             50\n",
       "4       11004             95"
      ]
     },
     "execution_count": 15,
     "metadata": {},
     "output_type": "execute_result"
    }
   ],
   "source": [
    "df_aw_spend.head()"
   ]
  },
  {
   "cell_type": "code",
   "execution_count": 16,
   "metadata": {},
   "outputs": [],
   "source": [
    "df_aw_custs.set_index(\"CustomerID\", inplace=True)\n",
    "df_aw_spend.set_index(\"CustomerID\", inplace=True)"
   ]
  },
  {
   "cell_type": "code",
   "execution_count": 17,
   "metadata": {},
   "outputs": [
    {
     "name": "stdout",
     "output_type": "stream",
     "text": [
      "            AveMonthSpend\n",
      "CustomerID               \n",
      "11000                  89\n",
      "11001                 117\n",
      "11002                 123\n",
      "11003                  50\n",
      "11004                  95\n",
      "            AveMonthSpend\n",
      "CustomerID               \n",
      "11000                  89\n",
      "11001                 117\n",
      "11002                 123\n",
      "11003                  50\n",
      "11004                  95\n"
     ]
    }
   ],
   "source": [
    "print(df_aw_spend.head())\n",
    "\n",
    "df_joined = df_aw_custs.join(df_aw_spend)\n",
    "print(df_joined[[\"AveMonthSpend\"]].head())"
   ]
  },
  {
   "cell_type": "code",
   "execution_count": 18,
   "metadata": {},
   "outputs": [
    {
     "name": "stdout",
     "output_type": "stream",
     "text": [
      "Index(['Title', 'FirstName', 'MiddleName', 'LastName', 'Suffix',\n",
      "       'AddressLine1', 'AddressLine2', 'City', 'StateProvinceName',\n",
      "       'CountryRegionName', 'PostalCode', 'PhoneNumber', 'BirthDate',\n",
      "       'Education', 'Occupation', 'Gender', 'MaritalStatus', 'HomeOwnerFlag',\n",
      "       'NumberCarsOwned', 'NumberChildrenAtHome', 'TotalChildren',\n",
      "       'YearlyIncome', 'AveMonthSpend'],\n",
      "      dtype='object')\n"
     ]
    }
   ],
   "source": [
    "print(df_joined.columns)\n",
    "df_joined[[\"Gender\", \"AveMonthSpend\", \"BirthDate\"]]\n",
    "df_joined.dtypes\n",
    "df_joined[\"Age\"] = (pd.Timestamp(\"1998-01-01\") - pd.to_datetime(df_joined[\"BirthDate\"])).astype('<m8[Y]').astype(\"int\")"
   ]
  },
  {
   "cell_type": "code",
   "execution_count": 19,
   "metadata": {},
   "outputs": [],
   "source": [
    "def age_group(age):\n",
    "    if age < 25:\n",
    "        return \"<25\"\n",
    "    elif age < 45:\n",
    "        return \"25-45\"\n",
    "    elif age < 55:\n",
    "        return \"45-55\"\n",
    "    else:\n",
    "        return \">=55\""
   ]
  },
  {
   "cell_type": "code",
   "execution_count": 20,
   "metadata": {},
   "outputs": [],
   "source": [
    "df_joined[\"AgeGroup\"] = df_joined[\"Age\"].map(age_group)"
   ]
  },
  {
   "cell_type": "code",
   "execution_count": 21,
   "metadata": {},
   "outputs": [
    {
     "data": {
      "text/plain": [
       "array([[<matplotlib.axes._subplots.AxesSubplot object at 0x000001E5BCB5DDD8>]],\n",
       "      dtype=object)"
      ]
     },
     "execution_count": 21,
     "metadata": {},
     "output_type": "execute_result"
    },
    {
     "data": {
      "image/png": "[encoded data removed]",
      "text/plain": [
       "<Figure size 432x288 with 1 Axes>"
      ]
     },
     "metadata": {},
     "output_type": "display_data"
    }
   ],
   "source": [
    "df_joined[[\"AgeGroup\", \"AveMonthSpend\", \"Gender\"]].hist()\n"
   ]
  },
  {
   "cell_type": "code",
   "execution_count": 22,
   "metadata": {},
   "outputs": [
    {
     "data": {
      "text/html": [
       "<div>\n",
       "<style scoped>\n",
       "    .dataframe tbody tr th:only-of-type {\n",
       "        vertical-align: middle;\n",
       "    }\n",
       "\n",
       "    .dataframe tbody tr th {\n",
       "        vertical-align: top;\n",
       "    }\n",
       "\n",
       "    .dataframe thead th {\n",
       "        text-align: right;\n",
       "    }\n",
       "</style>\n",
       "<table border=\"1\" class=\"dataframe\">\n",
       "  <thead>\n",
       "    <tr style=\"text-align: right;\">\n",
       "      <th></th>\n",
       "      <th></th>\n",
       "      <th>AveMonthSpend</th>\n",
       "    </tr>\n",
       "    <tr>\n",
       "      <th>AgeGroup</th>\n",
       "      <th>Gender</th>\n",
       "      <th></th>\n",
       "    </tr>\n",
       "  </thead>\n",
       "  <tbody>\n",
       "    <tr>\n",
       "      <th rowspan=\"2\" valign=\"top\">25-45</th>\n",
       "      <th>F</th>\n",
       "      <td>293929</td>\n",
       "    </tr>\n",
       "    <tr>\n",
       "      <th>M</th>\n",
       "      <td>473092</td>\n",
       "    </tr>\n",
       "    <tr>\n",
       "      <th rowspan=\"2\" valign=\"top\">45-55</th>\n",
       "      <th>F</th>\n",
       "      <td>70079</td>\n",
       "    </tr>\n",
       "    <tr>\n",
       "      <th>M</th>\n",
       "      <td>109613</td>\n",
       "    </tr>\n",
       "    <tr>\n",
       "      <th rowspan=\"2\" valign=\"top\">&lt;25</th>\n",
       "      <th>F</th>\n",
       "      <td>70476</td>\n",
       "    </tr>\n",
       "    <tr>\n",
       "      <th>M</th>\n",
       "      <td>107683</td>\n",
       "    </tr>\n",
       "    <tr>\n",
       "      <th rowspan=\"2\" valign=\"top\">&gt;=55</th>\n",
       "      <th>F</th>\n",
       "      <td>24935</td>\n",
       "    </tr>\n",
       "    <tr>\n",
       "      <th>M</th>\n",
       "      <td>37695</td>\n",
       "    </tr>\n",
       "  </tbody>\n",
       "</table>\n",
       "</div>"
      ],
      "text/plain": [
       "                 AveMonthSpend\n",
       "AgeGroup Gender               \n",
       "25-45    F              293929\n",
       "         M              473092\n",
       "45-55    F               70079\n",
       "         M              109613\n",
       "<25      F               70476\n",
       "         M              107683\n",
       ">=55     F               24935\n",
       "         M               37695"
      ]
     },
     "execution_count": 22,
     "metadata": {},
     "output_type": "execute_result"
    }
   ],
   "source": [
    "df_joined[[\"AgeGroup\", \"AveMonthSpend\", \"Gender\"]].groupby([\"AgeGroup\", \"Gender\"]).sum()"
   ]
  },
  {
   "cell_type": "code",
   "execution_count": 23,
   "metadata": {},
   "outputs": [
    {
     "data": {
      "text/html": [
       "<div>\n",
       "<style scoped>\n",
       "    .dataframe tbody tr th:only-of-type {\n",
       "        vertical-align: middle;\n",
       "    }\n",
       "\n",
       "    .dataframe tbody tr th {\n",
       "        vertical-align: top;\n",
       "    }\n",
       "\n",
       "    .dataframe thead tr th {\n",
       "        text-align: left;\n",
       "    }\n",
       "\n",
       "    .dataframe thead tr:last-of-type th {\n",
       "        text-align: right;\n",
       "    }\n",
       "</style>\n",
       "<table border=\"1\" class=\"dataframe\">\n",
       "  <thead>\n",
       "    <tr>\n",
       "      <th></th>\n",
       "      <th></th>\n",
       "      <th colspan=\"8\" halign=\"left\">AveMonthSpend</th>\n",
       "    </tr>\n",
       "    <tr>\n",
       "      <th></th>\n",
       "      <th></th>\n",
       "      <th>count</th>\n",
       "      <th>mean</th>\n",
       "      <th>std</th>\n",
       "      <th>min</th>\n",
       "      <th>25%</th>\n",
       "      <th>50%</th>\n",
       "      <th>75%</th>\n",
       "      <th>max</th>\n",
       "    </tr>\n",
       "    <tr>\n",
       "      <th>AgeGroup</th>\n",
       "      <th>Gender</th>\n",
       "      <th></th>\n",
       "      <th></th>\n",
       "      <th></th>\n",
       "      <th></th>\n",
       "      <th></th>\n",
       "      <th></th>\n",
       "      <th></th>\n",
       "      <th></th>\n",
       "    </tr>\n",
       "  </thead>\n",
       "  <tbody>\n",
       "    <tr>\n",
       "      <th rowspan=\"2\" valign=\"top\">25-45</th>\n",
       "      <th>F</th>\n",
       "      <td>4914.0</td>\n",
       "      <td>59.814611</td>\n",
       "      <td>16.599226</td>\n",
       "      <td>32.0</td>\n",
       "      <td>48.0</td>\n",
       "      <td>54.0</td>\n",
       "      <td>67.00</td>\n",
       "      <td>114.0</td>\n",
       "    </tr>\n",
       "    <tr>\n",
       "      <th>M</th>\n",
       "      <td>5067.0</td>\n",
       "      <td>93.367278</td>\n",
       "      <td>27.378939</td>\n",
       "      <td>50.0</td>\n",
       "      <td>75.0</td>\n",
       "      <td>83.0</td>\n",
       "      <td>107.00</td>\n",
       "      <td>176.0</td>\n",
       "    </tr>\n",
       "    <tr>\n",
       "      <th rowspan=\"2\" valign=\"top\">45-55</th>\n",
       "      <th>F</th>\n",
       "      <td>1210.0</td>\n",
       "      <td>57.916529</td>\n",
       "      <td>16.933641</td>\n",
       "      <td>29.0</td>\n",
       "      <td>47.0</td>\n",
       "      <td>53.0</td>\n",
       "      <td>61.00</td>\n",
       "      <td>110.0</td>\n",
       "    </tr>\n",
       "    <tr>\n",
       "      <th>M</th>\n",
       "      <td>1227.0</td>\n",
       "      <td>89.334148</td>\n",
       "      <td>27.229150</td>\n",
       "      <td>51.0</td>\n",
       "      <td>71.0</td>\n",
       "      <td>82.0</td>\n",
       "      <td>95.00</td>\n",
       "      <td>170.0</td>\n",
       "    </tr>\n",
       "    <tr>\n",
       "      <th rowspan=\"2\" valign=\"top\">&lt;25</th>\n",
       "      <th>F</th>\n",
       "      <td>1456.0</td>\n",
       "      <td>48.403846</td>\n",
       "      <td>11.892605</td>\n",
       "      <td>30.0</td>\n",
       "      <td>42.0</td>\n",
       "      <td>46.0</td>\n",
       "      <td>51.00</td>\n",
       "      <td>112.0</td>\n",
       "    </tr>\n",
       "    <tr>\n",
       "      <th>M</th>\n",
       "      <td>1476.0</td>\n",
       "      <td>72.955962</td>\n",
       "      <td>18.502554</td>\n",
       "      <td>50.0</td>\n",
       "      <td>63.0</td>\n",
       "      <td>69.0</td>\n",
       "      <td>76.25</td>\n",
       "      <td>176.0</td>\n",
       "    </tr>\n",
       "    <tr>\n",
       "      <th rowspan=\"2\" valign=\"top\">&gt;=55</th>\n",
       "      <th>F</th>\n",
       "      <td>534.0</td>\n",
       "      <td>46.694757</td>\n",
       "      <td>11.965024</td>\n",
       "      <td>22.0</td>\n",
       "      <td>40.0</td>\n",
       "      <td>45.0</td>\n",
       "      <td>49.00</td>\n",
       "      <td>93.0</td>\n",
       "    </tr>\n",
       "    <tr>\n",
       "      <th>M</th>\n",
       "      <td>520.0</td>\n",
       "      <td>72.490385</td>\n",
       "      <td>19.671775</td>\n",
       "      <td>29.0</td>\n",
       "      <td>62.0</td>\n",
       "      <td>69.0</td>\n",
       "      <td>75.00</td>\n",
       "      <td>147.0</td>\n",
       "    </tr>\n",
       "  </tbody>\n",
       "</table>\n",
       "</div>"
      ],
      "text/plain": [
       "                AveMonthSpend                                                  \\\n",
       "                        count       mean        std   min   25%   50%     75%   \n",
       "AgeGroup Gender                                                                 \n",
       "25-45    F             4914.0  59.814611  16.599226  32.0  48.0  54.0   67.00   \n",
       "         M             5067.0  93.367278  27.378939  50.0  75.0  83.0  107.00   \n",
       "45-55    F             1210.0  57.916529  16.933641  29.0  47.0  53.0   61.00   \n",
       "         M             1227.0  89.334148  27.229150  51.0  71.0  82.0   95.00   \n",
       "<25      F             1456.0  48.403846  11.892605  30.0  42.0  46.0   51.00   \n",
       "         M             1476.0  72.955962  18.502554  50.0  63.0  69.0   76.25   \n",
       ">=55     F              534.0  46.694757  11.965024  22.0  40.0  45.0   49.00   \n",
       "         M              520.0  72.490385  19.671775  29.0  62.0  69.0   75.00   \n",
       "\n",
       "                        \n",
       "                   max  \n",
       "AgeGroup Gender         \n",
       "25-45    F       114.0  \n",
       "         M       176.0  \n",
       "45-55    F       110.0  \n",
       "         M       170.0  \n",
       "<25      F       112.0  \n",
       "         M       176.0  \n",
       ">=55     F        93.0  \n",
       "         M       147.0  "
      ]
     },
     "execution_count": 23,
     "metadata": {},
     "output_type": "execute_result"
    }
   ],
   "source": [
    "df_joined[[\"AgeGroup\", \"AveMonthSpend\", \"Gender\"]].groupby([\"AgeGroup\", \"Gender\"]).describe()"
   ]
  },
  {
   "cell_type": "code",
   "execution_count": 24,
   "metadata": {},
   "outputs": [
    {
     "data": {
      "text/plain": [
       "<matplotlib.axes._subplots.AxesSubplot at 0x1e5bcf96ac8>"
      ]
     },
     "execution_count": 24,
     "metadata": {},
     "output_type": "execute_result"
    },
    {
     "data": {
      "image/png": "[encoded data removed]",
      "text/plain": [
       "<Figure size 432x288 with 1 Axes>"
      ]
     },
     "metadata": {},
     "output_type": "display_data"
    }
   ],
   "source": [
    "sns.barplot(data=df_joined[[\"AgeGroup\", \"AveMonthSpend\", \"Gender\"]], y=\"AveMonthSpend\", x=\"AgeGroup\", hue=\"Gender\")"
   ]
  },
  {
   "cell_type": "code",
   "execution_count": 25,
   "metadata": {},
   "outputs": [],
   "source": [
    "def plot_box(auto_prices, cols, col_y = 'price'):\n",
    "    for col in cols:\n",
    "        sns.set_style(\"whitegrid\")\n",
    "        sns.boxplot(col, col_y, data=auto_prices, palette='RdBu_r')\n",
    "        plt.xlabel(col) # Set text for the x axis\n",
    "        plt.ylabel(col_y)# Set text for y axis\n",
    "        plt.show()\n",
    "        "
   ]
  },
  {
   "cell_type": "code",
   "execution_count": 26,
   "metadata": {},
   "outputs": [
    {
     "data": {
      "image/png": "[encoded data removed]",
      "text/plain": [
       "<Figure size 432x288 with 1 Axes>"
      ]
     },
     "metadata": {},
     "output_type": "display_data"
    },
    {
     "data": {
      "image/png": "[encoded data removed]",
      "text/plain": [
       "<Figure size 432x288 with 1 Axes>"
      ]
     },
     "metadata": {},
     "output_type": "display_data"
    },
    {
     "data": {
      "image/png": "[encoded data removed]",
      "text/plain": [
       "<Figure size 432x288 with 1 Axes>"
      ]
     },
     "metadata": {},
     "output_type": "display_data"
    },
    {
     "data": {
      "image/png": "[encoded data removed]",
      "text/plain": [
       "<Figure size 432x288 with 1 Axes>"
      ]
     },
     "metadata": {},
     "output_type": "display_data"
    },
    {
     "data": {
      "image/png": "[encoded data removed]",
      "text/plain": [
       "<Figure size 432x288 with 1 Axes>"
      ]
     },
     "metadata": {},
     "output_type": "display_data"
    }
   ],
   "source": [
    "cat_cols = ['Gender', 'MaritalStatus', 'Occupation', 'NumberCarsOwned', 'NumberChildrenAtHome']\n",
    "plot_box(df_joined, cat_cols, col_y=\"AveMonthSpend\")    "
   ]
  },
  {
   "cell_type": "code",
   "execution_count": 27,
   "metadata": {},
   "outputs": [],
   "source": [
    "df_aw_bike_buyer.set_index(\"CustomerID\", inplace=True)\n",
    "df_joined = df_joined.join(df_aw_bike_buyer)\n"
   ]
  },
  {
   "cell_type": "code",
   "execution_count": 28,
   "metadata": {},
   "outputs": [
    {
     "data": {
      "image/png": "[encoded data removed]",
      "text/plain": [
       "<Figure size 432x288 with 1 Axes>"
      ]
     },
     "metadata": {},
     "output_type": "display_data"
    }
   ],
   "source": [
    "cat_cols = ['BikeBuyer']\n",
    "plot_box(df_joined, cat_cols, col_y=\"YearlyIncome\")    "
   ]
  },
  {
   "cell_type": "code",
   "execution_count": 29,
   "metadata": {},
   "outputs": [
    {
     "data": {
      "image/png": "[encoded data removed]",
      "text/plain": [
       "<Figure size 432x288 with 1 Axes>"
      ]
     },
     "metadata": {},
     "output_type": "display_data"
    }
   ],
   "source": [
    "cat_cols = ['BikeBuyer']\n",
    "plot_box(df_joined, cat_cols, col_y=\"NumberCarsOwned\")"
   ]
  },
  {
   "cell_type": "code",
   "execution_count": 33,
   "metadata": {},
   "outputs": [
    {
     "data": {
      "text/html": [
       "<div>\n",
       "<style scoped>\n",
       "    .dataframe tbody tr th:only-of-type {\n",
       "        vertical-align: middle;\n",
       "    }\n",
       "\n",
       "    .dataframe tbody tr th {\n",
       "        vertical-align: top;\n",
       "    }\n",
       "\n",
       "    .dataframe thead th {\n",
       "        text-align: right;\n",
       "    }\n",
       "</style>\n",
       "<table border=\"1\" class=\"dataframe\">\n",
       "  <thead>\n",
       "    <tr style=\"text-align: right;\">\n",
       "      <th></th>\n",
       "      <th>BikeBuyer</th>\n",
       "    </tr>\n",
       "    <tr>\n",
       "      <th>NumberCarsOwned</th>\n",
       "      <th></th>\n",
       "    </tr>\n",
       "  </thead>\n",
       "  <tbody>\n",
       "    <tr>\n",
       "      <th>0</th>\n",
       "      <td>0</td>\n",
       "    </tr>\n",
       "    <tr>\n",
       "      <th>1</th>\n",
       "      <td>0</td>\n",
       "    </tr>\n",
       "    <tr>\n",
       "      <th>2</th>\n",
       "      <td>0</td>\n",
       "    </tr>\n",
       "    <tr>\n",
       "      <th>3</th>\n",
       "      <td>1</td>\n",
       "    </tr>\n",
       "    <tr>\n",
       "      <th>4</th>\n",
       "      <td>1</td>\n",
       "    </tr>\n",
       "  </tbody>\n",
       "</table>\n",
       "</div>"
      ],
      "text/plain": [
       "                 BikeBuyer\n",
       "NumberCarsOwned           \n",
       "0                        0\n",
       "1                        0\n",
       "2                        0\n",
       "3                        1\n",
       "4                        1"
      ]
     },
     "execution_count": 33,
     "metadata": {},
     "output_type": "execute_result"
    }
   ],
   "source": [
    "df_joined[['BikeBuyer', 'NumberCarsOwned']].groupby('BikeBuyer').median()\n"
   ]
  },
  {
   "cell_type": "code",
   "execution_count": 32,
   "metadata": {},
   "outputs": [
    {
     "data": {
      "text/html": [
       "<div>\n",
       "<style scoped>\n",
       "    .dataframe tbody tr th:only-of-type {\n",
       "        vertical-align: middle;\n",
       "    }\n",
       "\n",
       "    .dataframe tbody tr th {\n",
       "        vertical-align: top;\n",
       "    }\n",
       "\n",
       "    .dataframe thead tr th {\n",
       "        text-align: left;\n",
       "    }\n",
       "\n",
       "    .dataframe thead tr:last-of-type th {\n",
       "        text-align: right;\n",
       "    }\n",
       "</style>\n",
       "<table border=\"1\" class=\"dataframe\">\n",
       "  <thead>\n",
       "    <tr>\n",
       "      <th></th>\n",
       "      <th colspan=\"8\" halign=\"left\">BikeBuyer</th>\n",
       "    </tr>\n",
       "    <tr>\n",
       "      <th></th>\n",
       "      <th>count</th>\n",
       "      <th>mean</th>\n",
       "      <th>std</th>\n",
       "      <th>min</th>\n",
       "      <th>25%</th>\n",
       "      <th>50%</th>\n",
       "      <th>75%</th>\n",
       "      <th>max</th>\n",
       "    </tr>\n",
       "    <tr>\n",
       "      <th>Occupation</th>\n",
       "      <th></th>\n",
       "      <th></th>\n",
       "      <th></th>\n",
       "      <th></th>\n",
       "      <th></th>\n",
       "      <th></th>\n",
       "      <th></th>\n",
       "      <th></th>\n",
       "    </tr>\n",
       "  </thead>\n",
       "  <tbody>\n",
       "    <tr>\n",
       "      <th>Clerical</th>\n",
       "      <td>2597.0</td>\n",
       "      <td>0.237197</td>\n",
       "      <td>0.425446</td>\n",
       "      <td>0.0</td>\n",
       "      <td>0.0</td>\n",
       "      <td>0.0</td>\n",
       "      <td>0.0</td>\n",
       "      <td>1.0</td>\n",
       "    </tr>\n",
       "    <tr>\n",
       "      <th>Management</th>\n",
       "      <td>2718.0</td>\n",
       "      <td>0.373804</td>\n",
       "      <td>0.483902</td>\n",
       "      <td>0.0</td>\n",
       "      <td>0.0</td>\n",
       "      <td>0.0</td>\n",
       "      <td>1.0</td>\n",
       "      <td>1.0</td>\n",
       "    </tr>\n",
       "    <tr>\n",
       "      <th>Manual</th>\n",
       "      <td>2129.0</td>\n",
       "      <td>0.236731</td>\n",
       "      <td>0.425176</td>\n",
       "      <td>0.0</td>\n",
       "      <td>0.0</td>\n",
       "      <td>0.0</td>\n",
       "      <td>0.0</td>\n",
       "      <td>1.0</td>\n",
       "    </tr>\n",
       "    <tr>\n",
       "      <th>Professional</th>\n",
       "      <td>4922.0</td>\n",
       "      <td>0.443722</td>\n",
       "      <td>0.496873</td>\n",
       "      <td>0.0</td>\n",
       "      <td>0.0</td>\n",
       "      <td>0.0</td>\n",
       "      <td>1.0</td>\n",
       "      <td>1.0</td>\n",
       "    </tr>\n",
       "    <tr>\n",
       "      <th>Skilled Manual</th>\n",
       "      <td>4038.0</td>\n",
       "      <td>0.281080</td>\n",
       "      <td>0.449582</td>\n",
       "      <td>0.0</td>\n",
       "      <td>0.0</td>\n",
       "      <td>0.0</td>\n",
       "      <td>1.0</td>\n",
       "      <td>1.0</td>\n",
       "    </tr>\n",
       "  </tbody>\n",
       "</table>\n",
       "</div>"
      ],
      "text/plain": [
       "               BikeBuyer                                             \n",
       "                   count      mean       std  min  25%  50%  75%  max\n",
       "Occupation                                                           \n",
       "Clerical          2597.0  0.237197  0.425446  0.0  0.0  0.0  0.0  1.0\n",
       "Management        2718.0  0.373804  0.483902  0.0  0.0  0.0  1.0  1.0\n",
       "Manual            2129.0  0.236731  0.425176  0.0  0.0  0.0  0.0  1.0\n",
       "Professional      4922.0  0.443722  0.496873  0.0  0.0  0.0  1.0  1.0\n",
       "Skilled Manual    4038.0  0.281080  0.449582  0.0  0.0  0.0  1.0  1.0"
      ]
     },
     "execution_count": 32,
     "metadata": {},
     "output_type": "execute_result"
    }
   ],
   "source": [
    "df_joined[['BikeBuyer', 'Occupation']].groupby('Occupation').describe()"
   ]
  },
  {
   "cell_type": "code",
   "execution_count": 34,
   "metadata": {},
   "outputs": [],
   "source": [
    "from sklearn import preprocessing\n",
    "import sklearn.model_selection as ms\n",
    "from sklearn import linear_model\n",
    "import sklearn.metrics as sklm"
   ]
  },
  {
   "cell_type": "code",
   "execution_count": 35,
   "metadata": {},
   "outputs": [],
   "source": [
    "def encode_string(cat_features):\n",
    "    ## First encode the strings to numeric categories\n",
    "    enc = preprocessing.LabelEncoder()\n",
    "    enc.fit(cat_features)\n",
    "    enc_cat_features = enc.transform(cat_features)\n",
    "    ## Now, apply one hot encoding\n",
    "    ohe = preprocessing.OneHotEncoder()\n",
    "    encoded = ohe.fit(enc_cat_features.reshape(-1,1))\n",
    "    return encoded.transform(enc_cat_features.reshape(-1,1)).toarray()"
   ]
  },
  {
   "cell_type": "code",
   "execution_count": 37,
   "metadata": {},
   "outputs": [
    {
     "name": "stdout",
     "output_type": "stream",
     "text": [
      "           Title  FirstName MiddleName LastName Suffix         AddressLine1  \\\n",
      "CustomerID                                                                    \n",
      "11000        NaN        Jon          V     Yang    NaN      3761 N. 14th St   \n",
      "11001        NaN     Eugene          L    Huang    NaN           2243 W St.   \n",
      "11002        NaN      Ruben        NaN   Torres    NaN     5844 Linden Land   \n",
      "11003        NaN    Christy        NaN      Zhu    NaN     1825 Village Pl.   \n",
      "11004        NaN  Elizabeth        NaN  Johnson    NaN  7553 Harness Circle   \n",
      "\n",
      "           AddressLine2         City StateProvinceName CountryRegionName  \\\n",
      "CustomerID                                                                 \n",
      "11000               NaN  Rockhampton        Queensland         Australia   \n",
      "11001               NaN      Seaford          Victoria         Australia   \n",
      "11002               NaN       Hobart          Tasmania         Australia   \n",
      "11003               NaN   North Ryde   New South Wales         Australia   \n",
      "11004               NaN   Wollongong   New South Wales         Australia   \n",
      "\n",
      "              ...     MaritalStatus HomeOwnerFlag NumberCarsOwned  \\\n",
      "CustomerID    ...                                                   \n",
      "11000         ...                 M             1               0   \n",
      "11001         ...                 S             0               1   \n",
      "11002         ...                 M             1               1   \n",
      "11003         ...                 S             0               1   \n",
      "11004         ...                 S             1               4   \n",
      "\n",
      "           NumberChildrenAtHome TotalChildren YearlyIncome AveMonthSpend  Age  \\\n",
      "CustomerID                                                                      \n",
      "11000                         0             2       137947            89   31   \n",
      "11001                         3             3       101141           117   32   \n",
      "11002                         3             3        91945           123   32   \n",
      "11003                         0             0        86688            50   29   \n",
      "11004                         5             5        92771            95   29   \n",
      "\n",
      "            AgeGroup  BikeBuyer  \n",
      "CustomerID                       \n",
      "11000          25-45          0  \n",
      "11001          25-45          1  \n",
      "11002          25-45          0  \n",
      "11003          25-45          0  \n",
      "11004          25-45          1  \n",
      "\n",
      "[5 rows x 26 columns]\n",
      "Index(['Title', 'FirstName', 'MiddleName', 'LastName', 'Suffix',\n",
      "       'AddressLine1', 'AddressLine2', 'City', 'StateProvinceName',\n",
      "       'CountryRegionName', 'PostalCode', 'PhoneNumber', 'BirthDate',\n",
      "       'Education', 'Occupation', 'Gender', 'MaritalStatus', 'HomeOwnerFlag',\n",
      "       'NumberCarsOwned', 'NumberChildrenAtHome', 'TotalChildren',\n",
      "       'YearlyIncome', 'AveMonthSpend', 'Age', 'AgeGroup', 'BikeBuyer'],\n",
      "      dtype='object')\n"
     ]
    }
   ],
   "source": [
    "print(df_joined.head())\n",
    "print(df_joined.columns)\n"
   ]
  },
  {
   "cell_type": "code",
   "execution_count": 39,
   "metadata": {},
   "outputs": [],
   "source": [
    "labels = np.array(df_joined['BikeBuyer'])"
   ]
  },
  {
   "cell_type": "code",
   "execution_count": 62,
   "metadata": {},
   "outputs": [
    {
     "data": {
      "text/html": [
       "<div>\n",
       "<style scoped>\n",
       "    .dataframe tbody tr th:only-of-type {\n",
       "        vertical-align: middle;\n",
       "    }\n",
       "\n",
       "    .dataframe tbody tr th {\n",
       "        vertical-align: top;\n",
       "    }\n",
       "\n",
       "    .dataframe thead th {\n",
       "        text-align: right;\n",
       "    }\n",
       "</style>\n",
       "<table border=\"1\" class=\"dataframe\">\n",
       "  <thead>\n",
       "    <tr style=\"text-align: right;\">\n",
       "      <th></th>\n",
       "      <th>YearlyIncome</th>\n",
       "      <th>MaritalStatus</th>\n",
       "      <th>Gender</th>\n",
       "      <th>NumberCarsOwned</th>\n",
       "      <th>Age</th>\n",
       "      <th>AveMonthSpend</th>\n",
       "    </tr>\n",
       "    <tr>\n",
       "      <th>CustomerID</th>\n",
       "      <th></th>\n",
       "      <th></th>\n",
       "      <th></th>\n",
       "      <th></th>\n",
       "      <th></th>\n",
       "      <th></th>\n",
       "    </tr>\n",
       "  </thead>\n",
       "  <tbody>\n",
       "    <tr>\n",
       "      <th>11000</th>\n",
       "      <td>137947</td>\n",
       "      <td>M</td>\n",
       "      <td>M</td>\n",
       "      <td>0</td>\n",
       "      <td>31</td>\n",
       "      <td>89</td>\n",
       "    </tr>\n",
       "    <tr>\n",
       "      <th>11001</th>\n",
       "      <td>101141</td>\n",
       "      <td>S</td>\n",
       "      <td>M</td>\n",
       "      <td>1</td>\n",
       "      <td>32</td>\n",
       "      <td>117</td>\n",
       "    </tr>\n",
       "    <tr>\n",
       "      <th>11002</th>\n",
       "      <td>91945</td>\n",
       "      <td>M</td>\n",
       "      <td>M</td>\n",
       "      <td>1</td>\n",
       "      <td>32</td>\n",
       "      <td>123</td>\n",
       "    </tr>\n",
       "    <tr>\n",
       "      <th>11003</th>\n",
       "      <td>86688</td>\n",
       "      <td>S</td>\n",
       "      <td>F</td>\n",
       "      <td>1</td>\n",
       "      <td>29</td>\n",
       "      <td>50</td>\n",
       "    </tr>\n",
       "    <tr>\n",
       "      <th>11004</th>\n",
       "      <td>92771</td>\n",
       "      <td>S</td>\n",
       "      <td>F</td>\n",
       "      <td>4</td>\n",
       "      <td>29</td>\n",
       "      <td>95</td>\n",
       "    </tr>\n",
       "  </tbody>\n",
       "</table>\n",
       "</div>"
      ],
      "text/plain": [
       "            YearlyIncome MaritalStatus Gender  NumberCarsOwned  Age  \\\n",
       "CustomerID                                                            \n",
       "11000             137947             M      M                0   31   \n",
       "11001             101141             S      M                1   32   \n",
       "11002              91945             M      M                1   32   \n",
       "11003              86688             S      F                1   29   \n",
       "11004              92771             S      F                4   29   \n",
       "\n",
       "            AveMonthSpend  \n",
       "CustomerID                 \n",
       "11000                  89  \n",
       "11001                 117  \n",
       "11002                 123  \n",
       "11003                  50  \n",
       "11004                  95  "
      ]
     },
     "execution_count": 62,
     "metadata": {},
     "output_type": "execute_result"
    }
   ],
   "source": [
    "df_joined[[\"YearlyIncome\",\"MaritalStatus\", \"Gender\", \"NumberCarsOwned\", \"Age\", \"AveMonthSpend\"]].head()"
   ]
  },
  {
   "cell_type": "code",
   "execution_count": 63,
   "metadata": {},
   "outputs": [],
   "source": [
    "cols = [\"MaritalStatus\", \"Gender\"]\n",
    "encoded = encode_string(cat_features=cols)\n"
   ]
  },
  {
   "cell_type": "code",
   "execution_count": 64,
   "metadata": {},
   "outputs": [
    {
     "data": {
      "image/png": "[encoded data removed]",
      "text/plain": [
       "<Figure size 432x288 with 1 Axes>"
      ]
     },
     "metadata": {},
     "output_type": "display_data"
    }
   ],
   "source": [
    "cat_cols = ['BikeBuyer']\n",
    "plot_box(df_joined, cat_cols, col_y=\"AveMonthSpend\")"
   ]
  },
  {
   "cell_type": "code",
   "execution_count": 65,
   "metadata": {},
   "outputs": [
    {
     "data": {
      "text/plain": [
       "array([[0., 1.],\n",
       "       [1., 0.]])"
      ]
     },
     "execution_count": 65,
     "metadata": {},
     "output_type": "execute_result"
    }
   ],
   "source": [
    "encoded"
   ]
  },
  {
   "cell_type": "code",
   "execution_count": 66,
   "metadata": {},
   "outputs": [],
   "source": [
    "Features = encode_string(df_joined['MaritalStatus'])\n",
    "temp = encode_string(df_joined['Gender'])\n",
    "Features = np.concatenate([Features, temp], axis = 1)\n"
   ]
  },
  {
   "cell_type": "code",
   "execution_count": 67,
   "metadata": {},
   "outputs": [
    {
     "data": {
      "text/plain": [
       "(16404, 4)"
      ]
     },
     "execution_count": 67,
     "metadata": {},
     "output_type": "execute_result"
    }
   ],
   "source": [
    "Features.shape"
   ]
  },
  {
   "cell_type": "code",
   "execution_count": 68,
   "metadata": {},
   "outputs": [
    {
     "data": {
      "text/plain": [
       "(16404, 26)"
      ]
     },
     "execution_count": 68,
     "metadata": {},
     "output_type": "execute_result"
    }
   ],
   "source": [
    "df_joined.shape"
   ]
  },
  {
   "cell_type": "code",
   "execution_count": 69,
   "metadata": {},
   "outputs": [],
   "source": [
    "Features = np.concatenate([Features, np.array(df_joined[[\"YearlyIncome\",\"Age\", \"AveMonthSpend\", \"NumberCarsOwned\"]])], axis = 1)"
   ]
  },
  {
   "cell_type": "code",
   "execution_count": 71,
   "metadata": {},
   "outputs": [
    {
     "data": {
      "text/plain": [
       "array([[1.00000e+00, 0.00000e+00, 0.00000e+00, 1.00000e+00, 1.37947e+05,\n",
       "        3.10000e+01, 8.90000e+01, 0.00000e+00],\n",
       "       [0.00000e+00, 1.00000e+00, 0.00000e+00, 1.00000e+00, 1.01141e+05,\n",
       "        3.20000e+01, 1.17000e+02, 1.00000e+00],\n",
       "       [1.00000e+00, 0.00000e+00, 0.00000e+00, 1.00000e+00, 9.19450e+04,\n",
       "        3.20000e+01, 1.23000e+02, 1.00000e+00],\n",
       "       [0.00000e+00, 1.00000e+00, 1.00000e+00, 0.00000e+00, 8.66880e+04,\n",
       "        2.90000e+01, 5.00000e+01, 1.00000e+00],\n",
       "       [0.00000e+00, 1.00000e+00, 1.00000e+00, 0.00000e+00, 9.27710e+04,\n",
       "        2.90000e+01, 9.50000e+01, 4.00000e+00],\n",
       "       [0.00000e+00, 1.00000e+00, 0.00000e+00, 1.00000e+00, 1.03199e+05,\n",
       "        3.20000e+01, 7.80000e+01, 1.00000e+00],\n",
       "       [0.00000e+00, 1.00000e+00, 1.00000e+00, 0.00000e+00, 8.47560e+04,\n",
       "        3.20000e+01, 5.40000e+01, 1.00000e+00],\n",
       "       [1.00000e+00, 0.00000e+00, 0.00000e+00, 1.00000e+00, 1.09759e+05,\n",
       "        3.30000e+01, 1.30000e+02, 2.00000e+00],\n",
       "       [0.00000e+00, 1.00000e+00, 1.00000e+00, 0.00000e+00, 8.80050e+04,\n",
       "        3.30000e+01, 8.50000e+01, 3.00000e+00],\n",
       "       [0.00000e+00, 1.00000e+00, 0.00000e+00, 1.00000e+00, 1.06399e+05,\n",
       "        3.30000e+01, 7.40000e+01, 1.00000e+00],\n",
       "       [0.00000e+00, 1.00000e+00, 1.00000e+00, 0.00000e+00, 8.12940e+04,\n",
       "        3.30000e+01, 4.90000e+01, 1.00000e+00],\n",
       "       [1.00000e+00, 0.00000e+00, 0.00000e+00, 1.00000e+00, 9.40290e+04,\n",
       "        3.40000e+01, 1.46000e+02, 4.00000e+00],\n",
       "       [1.00000e+00, 0.00000e+00, 1.00000e+00, 0.00000e+00, 9.92450e+04,\n",
       "        2.90000e+01, 5.50000e+01, 2.00000e+00],\n",
       "       [1.00000e+00, 0.00000e+00, 0.00000e+00, 1.00000e+00, 1.15859e+05,\n",
       "        2.90000e+01, 8.40000e+01, 3.00000e+00],\n",
       "       [0.00000e+00, 1.00000e+00, 1.00000e+00, 0.00000e+00, 1.05157e+05,\n",
       "        2.90000e+01, 4.90000e+01, 3.00000e+00],\n",
       "       [0.00000e+00, 1.00000e+00, 1.00000e+00, 0.00000e+00, 4.00110e+04,\n",
       "        1.80000e+01, 3.90000e+01, 1.00000e+00],\n",
       "       [1.00000e+00, 0.00000e+00, 0.00000e+00, 1.00000e+00, 4.68080e+04,\n",
       "        1.80000e+01, 6.80000e+01, 1.00000e+00],\n",
       "       [0.00000e+00, 1.00000e+00, 0.00000e+00, 1.00000e+00, 4.94550e+04,\n",
       "        1.90000e+01, 6.40000e+01, 2.00000e+00],\n",
       "       [0.00000e+00, 1.00000e+00, 0.00000e+00, 1.00000e+00, 4.38570e+04,\n",
       "        1.90000e+01, 6.40000e+01, 2.00000e+00],\n",
       "       [1.00000e+00, 0.00000e+00, 0.00000e+00, 1.00000e+00, 5.00460e+04,\n",
       "        1.90000e+01, 7.10000e+01, 1.00000e+00]])"
      ]
     },
     "execution_count": 71,
     "metadata": {},
     "output_type": "execute_result"
    }
   ],
   "source": [
    "Features[:20, :]"
   ]
  },
  {
   "cell_type": "code",
   "execution_count": 82,
   "metadata": {},
   "outputs": [
    {
     "data": {
      "text/plain": [
       "array([[1.00000e+00, 0.00000e+00, 1.00000e+00, 0.00000e+00, 4.70040e+04,\n",
       "        4.20000e+01, 5.20000e+01, 1.00000e+00],\n",
       "       [0.00000e+00, 1.00000e+00, 1.00000e+00, 0.00000e+00, 7.57340e+04,\n",
       "        5.50000e+01, 4.80000e+01, 1.00000e+00],\n",
       "       [0.00000e+00, 1.00000e+00, 1.00000e+00, 0.00000e+00, 3.65450e+04,\n",
       "        3.60000e+01, 4.50000e+01, 0.00000e+00],\n",
       "       [0.00000e+00, 1.00000e+00, 0.00000e+00, 1.00000e+00, 2.48570e+04,\n",
       "        3.00000e+01, 8.90000e+01, 1.00000e+00],\n",
       "       [1.00000e+00, 0.00000e+00, 0.00000e+00, 1.00000e+00, 1.11521e+05,\n",
       "        5.40000e+01, 8.20000e+01, 2.00000e+00],\n",
       "       [0.00000e+00, 1.00000e+00, 1.00000e+00, 0.00000e+00, 4.53490e+04,\n",
       "        2.10000e+01, 4.80000e+01, 2.00000e+00],\n",
       "       [1.00000e+00, 0.00000e+00, 1.00000e+00, 0.00000e+00, 3.72290e+04,\n",
       "        2.10000e+01, 4.20000e+01, 2.00000e+00],\n",
       "       [1.00000e+00, 0.00000e+00, 1.00000e+00, 0.00000e+00, 8.08950e+04,\n",
       "        2.10000e+01, 5.50000e+01, 3.00000e+00],\n",
       "       [0.00000e+00, 1.00000e+00, 0.00000e+00, 1.00000e+00, 1.60500e+05,\n",
       "        2.50000e+01, 1.53000e+02, 4.00000e+00],\n",
       "       [0.00000e+00, 1.00000e+00, 0.00000e+00, 1.00000e+00, 1.64243e+05,\n",
       "        2.70000e+01, 1.55000e+02, 4.00000e+00]])"
      ]
     },
     "execution_count": 82,
     "metadata": {},
     "output_type": "execute_result"
    }
   ],
   "source": [
    "nr.seed(9988)\n",
    "size = (int(Features.shape[0] * 0.3))\n",
    "indx = range(Features.shape[0])\n",
    "indx = ms.train_test_split(indx, test_size = size)\n",
    "X_train = Features[indx[0],:]\n",
    "y_train = np.ravel(labels[indx[0]])\n",
    "X_test = Features[indx[1],:]\n",
    "y_test = np.ravel(labels[indx[1]])\n",
    "X_train[:10]"
   ]
  },
  {
   "cell_type": "code",
   "execution_count": 83,
   "metadata": {},
   "outputs": [
    {
     "data": {
      "text/plain": [
       "array([[ 1.        ,  0.        ,  1.        ,  0.        , -0.78348211,\n",
       "         0.58391818, -0.74500714, -0.44342655],\n",
       "       [ 0.        ,  1.        ,  1.        ,  0.        , -0.05999597,\n",
       "         1.74358987, -0.89173791, -0.44342655],\n",
       "       [ 0.        ,  1.        ,  1.        ,  0.        , -1.04686329,\n",
       "         0.0486851 , -1.00178598, -1.32088082],\n",
       "       [ 0.        ,  1.        ,  0.        ,  1.        , -1.34119347,\n",
       "        -0.48654799,  0.61225241, -0.44342655],\n",
       "       [ 1.        ,  0.        ,  0.        ,  1.        ,  0.84120134,\n",
       "         1.65438436,  0.35547358,  0.43402771],\n",
       "       [ 0.        ,  1.        ,  1.        ,  0.        , -0.82515873,\n",
       "        -1.28939762, -0.89173791,  0.43402771],\n",
       "       [ 1.        ,  0.        ,  1.        ,  0.        , -1.02963863,\n",
       "        -1.28939762, -1.11183405,  0.43402771],\n",
       "       [ 1.        ,  0.        ,  1.        ,  0.        ,  0.06996964,\n",
       "        -1.28939762, -0.63495907,  1.31148198],\n",
       "       [ 0.        ,  1.        ,  0.        ,  1.        ,  2.07460292,\n",
       "        -0.93257556,  2.95994462,  2.18893624],\n",
       "       [ 0.        ,  1.        ,  0.        ,  1.        ,  2.1688601 ,\n",
       "        -0.75416453,  3.03331   ,  2.18893624]])"
      ]
     },
     "execution_count": 83,
     "metadata": {},
     "output_type": "execute_result"
    }
   ],
   "source": [
    "scaler = preprocessing.StandardScaler().fit(X_train[:,4:])\n",
    "X_train[:,4:] = scaler.transform(X_train[:,4:])\n",
    "X_test[:,4:] = scaler.transform(X_test[:,4:])\n",
    "X_train[:10,]"
   ]
  },
  {
   "cell_type": "code",
   "execution_count": 122,
   "metadata": {},
   "outputs": [
    {
     "data": {
      "text/plain": [
       "LogisticRegression(C=1.0, class_weight={0: 0.45, 1: 0.55}, dual=False,\n",
       "          fit_intercept=True, intercept_scaling=1, max_iter=100,\n",
       "          multi_class='ovr', n_jobs=1, penalty='l2', random_state=None,\n",
       "          solver='liblinear', tol=0.0001, verbose=0, warm_start=False)"
      ]
     },
     "execution_count": 122,
     "metadata": {},
     "output_type": "execute_result"
    }
   ],
   "source": [
    "lr_model = linear_model.LogisticRegression(class_weight={0:0.45, 1:0.55})\n",
    "lr_model.fit(X_train, y_train)"
   ]
  },
  {
   "cell_type": "code",
   "execution_count": 123,
   "metadata": {},
   "outputs": [
    {
     "name": "stdout",
     "output_type": "stream",
     "text": [
      "[[0.66960845 0.33039155]\n",
      " [0.64607787 0.35392213]\n",
      " [0.55100338 0.44899662]\n",
      " [0.59989433 0.40010567]\n",
      " [0.87290121 0.12709879]\n",
      " [0.94729111 0.05270889]\n",
      " [0.92691292 0.07308708]\n",
      " [0.88540662 0.11459338]\n",
      " [0.92844904 0.07155096]\n",
      " [0.71514948 0.28485052]\n",
      " [0.97426681 0.02573319]\n",
      " [0.48991928 0.51008072]\n",
      " [0.76297696 0.23702304]\n",
      " [0.6284157  0.3715843 ]\n",
      " [0.69026392 0.30973608]]\n"
     ]
    }
   ],
   "source": [
    "probabilities = lr_model.predict_proba(X_test)\n",
    "print(probabilities[:15,:])"
   ]
  },
  {
   "cell_type": "code",
   "execution_count": 136,
   "metadata": {},
   "outputs": [
    {
     "name": "stdout",
     "output_type": "stream",
     "text": [
      "[0 0 0 0 0 0 0 0 0 0 0 1 0 0 0 0 0 0 1 0]\n",
      "[1 0 1 1 0 0 0 0 0 0 0 1 0 0 0 0 0 0 1 0]\n"
     ]
    }
   ],
   "source": [
    "def score_model(probs, threshold):\n",
    "    return np.array([1 if x > threshold else 0 for x in probs[:,1]])\n",
    "scores = score_model(probabilities, 0.50)\n",
    "print(np.array(scores[:20]))\n",
    "print(y_test[:20])"
   ]
  },
  {
   "cell_type": "code",
   "execution_count": 137,
   "metadata": {},
   "outputs": [
    {
     "name": "stdout",
     "output_type": "stream",
     "text": [
      "                 Confusion matrix\n",
      "                 Score positive    Score negative\n",
      "Actual positive      2899               404\n",
      "Actual negative       674               944\n",
      "\n",
      "Accuracy  0.78\n",
      " \n",
      "           Positive      Negative\n",
      "Num case     3303          1618\n",
      "Precision    0.81          0.70\n",
      "Recall       0.88          0.58\n",
      "F1           0.84          0.64\n"
     ]
    }
   ],
   "source": [
    "def print_metrics(labels, scores):\n",
    "    metrics = sklm.precision_recall_fscore_support(labels, scores)\n",
    "    conf = sklm.confusion_matrix(labels, scores)\n",
    "    print('                 Confusion matrix')\n",
    "    print('                 Score positive    Score negative')\n",
    "    print('Actual positive    %6d' % conf[0,0] + '             %5d' % conf[0,1])\n",
    "    print('Actual negative    %6d' % conf[1,0] + '             %5d' % conf[1,1])\n",
    "    print('')\n",
    "    print('Accuracy  %0.2f' % sklm.accuracy_score(labels, scores))\n",
    "    print(' ')\n",
    "    print('           Positive      Negative')\n",
    "    print('Num case   %6d' % metrics[3][0] + '        %6d' % metrics[3][1])\n",
    "    print('Precision  %6.2f' % metrics[0][0] + '        %6.2f' % metrics[0][1])\n",
    "    print('Recall     %6.2f' % metrics[1][0] + '        %6.2f' % metrics[1][1])\n",
    "    print('F1         %6.2f' % metrics[2][0] + '        %6.2f' % metrics[2][1])\n",
    "\n",
    "\n",
    "    \n",
    "print_metrics(y_test, scores) "
   ]
  },
  {
   "cell_type": "code",
   "execution_count": 138,
   "metadata": {},
   "outputs": [
    {
     "data": {
      "image/png": "[encoded data removed]",
      "text/plain": [
       "<Figure size 432x288 with 1 Axes>"
      ]
     },
     "metadata": {},
     "output_type": "display_data"
    }
   ],
   "source": [
    "def plot_auc(labels, probs):\n",
    "    ## Compute the false positive rate, true positive rate\n",
    "    ## and threshold along with the AUC\n",
    "    fpr, tpr, threshold = sklm.roc_curve(labels, probs[:,1])\n",
    "    auc = sklm.auc(fpr, tpr)\n",
    "    \n",
    "    ## Plot the result\n",
    "    plt.title('Receiver Operating Characteristic')\n",
    "    plt.plot(fpr, tpr, color = 'orange', label = 'AUC = %0.2f' % auc)\n",
    "    plt.legend(loc = 'lower right')\n",
    "    plt.plot([0, 1], [0, 1],'r--')\n",
    "    plt.xlim([0, 1])\n",
    "    plt.ylim([0, 1])\n",
    "    plt.ylabel('True Positive Rate')\n",
    "    plt.xlabel('False Positive Rate')\n",
    "    plt.show()\n",
    "    \n",
    "plot_auc(y_test, probabilities)    "
   ]
  },
  {
   "cell_type": "code",
   "execution_count": 141,
   "metadata": {},
   "outputs": [
    {
     "name": "stdout",
     "output_type": "stream",
     "text": [
      "\n",
      "For threshold = 0.4\n",
      "                 Confusion matrix\n",
      "                 Score positive    Score negative\n",
      "Actual positive      2605               698\n",
      "Actual negative       479              1139\n",
      "\n",
      "Accuracy  0.76\n",
      " \n",
      "           Positive      Negative\n",
      "Num case     3303          1618\n",
      "Precision    0.84          0.62\n",
      "Recall       0.79          0.70\n",
      "F1           0.82          0.66\n",
      "\n",
      "For threshold = 0.37\n",
      "                 Confusion matrix\n",
      "                 Score positive    Score negative\n",
      "Actual positive      2477               826\n",
      "Actual negative       416              1202\n",
      "\n",
      "Accuracy  0.75\n",
      " \n",
      "           Positive      Negative\n",
      "Num case     3303          1618\n",
      "Precision    0.86          0.59\n",
      "Recall       0.75          0.74\n",
      "F1           0.80          0.66\n",
      "\n",
      "For threshold = 0.35\n",
      "                 Confusion matrix\n",
      "                 Score positive    Score negative\n",
      "Actual positive      2389               914\n",
      "Actual negative       382              1236\n",
      "\n",
      "Accuracy  0.74\n",
      " \n",
      "           Positive      Negative\n",
      "Num case     3303          1618\n",
      "Precision    0.86          0.57\n",
      "Recall       0.72          0.76\n",
      "F1           0.79          0.66\n"
     ]
    }
   ],
   "source": [
    "def test_threshold(probs, labels, threshold):\n",
    "    scores = score_model(probs, threshold)\n",
    "    print('')\n",
    "    print('For threshold = ' + str(threshold))\n",
    "    print_metrics(labels, scores)\n",
    "\n",
    "thresholds = [0.4, 0.37, 0.35]\n",
    "for t in thresholds:\n",
    "    test_threshold(probabilities, y_test, t)"
   ]
  },
  {
   "cell_type": "code",
   "execution_count": 166,
   "metadata": {},
   "outputs": [],
   "source": [
    "from sklearn.svm import LinearSVC, SVC"
   ]
  },
  {
   "cell_type": "code",
   "execution_count": 143,
   "metadata": {},
   "outputs": [
    {
     "data": {
      "text/plain": [
       "LinearSVC(C=1.0, class_weight=None, dual=True, fit_intercept=True,\n",
       "     intercept_scaling=1, loss='squared_hinge', max_iter=1000,\n",
       "     multi_class='ovr', penalty='l2', random_state=None, tol=0.0001,\n",
       "     verbose=0)"
      ]
     },
     "execution_count": 143,
     "metadata": {},
     "output_type": "execute_result"
    }
   ],
   "source": [
    "svm_model = LinearSVC()\n",
    "svm_model.fit(X_train, y_train)"
   ]
  },
  {
   "cell_type": "code",
   "execution_count": 144,
   "metadata": {},
   "outputs": [],
   "source": [
    "svm_pred = svm_model.predict(X_test)"
   ]
  },
  {
   "cell_type": "code",
   "execution_count": 148,
   "metadata": {},
   "outputs": [
    {
     "name": "stdout",
     "output_type": "stream",
     "text": [
      "[0 0 0 0 0 0 0 0 0 0 0 0 0 0 0 0 0 0 1 0 0 0 0 0 1 0 1 1 0 0 0 0 0 1 0 0 0\n",
      " 1 0 1 0 0 0 0 0 0 0 0 0 0]\n",
      "[1 0 1 1 0 0 0 0 0 0 0 1 0 0 0 0 0 0 1 0 0 0 0 0 1 0 1 1 0 0 0 0 1 1 0 0 0\n",
      " 1 0 1 0 0 0 1 0 0 0 0 1 0]\n"
     ]
    }
   ],
   "source": [
    "print(svm_pred[:50])\n",
    "print(y_test[:50])"
   ]
  },
  {
   "cell_type": "code",
   "execution_count": 161,
   "metadata": {},
   "outputs": [],
   "source": [
    "def print_metrics_3(labels, scores):\n",
    "   \n",
    "    conf = sklm.confusion_matrix(labels, scores)\n",
    "    print('                 Confusion matrix')\n",
    "    print('             Score 0   Score 1')\n",
    "    print('Actual 0      %6d' % conf[0,0] + '       %5d' % conf[0,1] )\n",
    "    print('Actual 1      %6d' % conf[1,0] + '       %5d' % conf[1,1] )\n",
    "    ## Now compute and display the accuracy and metrics\n",
    "    print('')\n",
    "    print('Accuracy        %0.2f' % sklm.accuracy_score(labels, scores))\n",
    "    metrics = sklm.precision_recall_fscore_support(labels, scores)\n",
    "    print(' ')\n",
    "    print('         Score 0     Score 1 ')\n",
    "    print('Num case   %0.2f' % metrics[3][0] + '     %0.2f' % metrics[3][1] )\n",
    "    print('Precision   %0.2f' % metrics[0][0] + '      %0.2f' % metrics[0][1] )\n",
    "    print('Recall      %0.2f' % metrics[1][0] + '      %0.2f' % metrics[1][1] )\n",
    "    print('F1          %0.2f' % metrics[2][0] + '      %0.2f' % metrics[2][1] )"
   ]
  },
  {
   "cell_type": "code",
   "execution_count": 162,
   "metadata": {},
   "outputs": [
    {
     "name": "stdout",
     "output_type": "stream",
     "text": [
      "                 Confusion matrix\n",
      "             Score 0   Score 1\n",
      "Actual 0        3029         274\n",
      "Actual 1         817         801\n",
      "\n",
      "Accuracy        0.78\n",
      " \n",
      "         Score 0     Score 1 \n",
      "Num case   3303.00     1618.00\n",
      "Precision   0.79      0.75\n",
      "Recall      0.92      0.50\n",
      "F1          0.85      0.59\n"
     ]
    }
   ],
   "source": [
    "print_metrics_3(y_test, svm_pred)"
   ]
  },
  {
   "cell_type": "code",
   "execution_count": 163,
   "metadata": {},
   "outputs": [],
   "source": [
    "inside = ms.KFold(n_splits=5, shuffle = True)\n",
    "outside = ms.KFold(n_splits=5, shuffle = True)"
   ]
  },
  {
   "cell_type": "code",
   "execution_count": 180,
   "metadata": {},
   "outputs": [
    {
     "name": "stdout",
     "output_type": "stream",
     "text": [
      "15\n",
      "0.04\n",
      "{0: 0.35, 1: 0.65}\n"
     ]
    }
   ],
   "source": [
    "## Define the dictionary for the grid search and the model object to search on\n",
    "param_grid = {\"C\": [5, 10, 15], \"gamma\":[1.0/25], \"class_weight\":[{0:0.35, 1:0.65}]}\n",
    "## Define the SVM model\n",
    "svc_clf = SVC() \n",
    "\n",
    "## Perform the grid search over the parameters\n",
    "clf = ms.GridSearchCV(estimator = svc_clf, param_grid = param_grid, \n",
    "                      cv = inside, # Use the inside folds\n",
    "                      scoring = 'roc_auc',\n",
    "                      return_train_score = True)\n",
    "clf.fit(X_train, y_train)\n",
    "print(clf.best_estimator_.C)\n",
    "print(clf.best_estimator_.gamma)\n",
    "print(clf.best_estimator_.class_weight)"
   ]
  },
  {
   "cell_type": "code",
   "execution_count": 181,
   "metadata": {},
   "outputs": [
    {
     "name": "stdout",
     "output_type": "stream",
     "text": [
      "Mean performance metric = 0.841\n",
      "SDT of the metric       = 0.006\n",
      "Outcomes by cv fold\n",
      "Fold  1    0.840\n",
      "Fold  2    0.844\n",
      "Fold  3    0.845\n",
      "Fold  4    0.847\n",
      "Fold  5    0.830\n"
     ]
    }
   ],
   "source": [
    "cv_estimate = ms.cross_val_score(clf, X_test, y_test, \n",
    "                                 cv = outside) # Use the outside folds\n",
    "\n",
    "print('Mean performance metric = %4.3f' % np.mean(cv_estimate))\n",
    "print('SDT of the metric       = %4.3f' % np.std(cv_estimate))\n",
    "print('Outcomes by cv fold')\n",
    "for i, x in enumerate(cv_estimate):\n",
    "    print('Fold %2d    %4.3f' % (i+1, x))"
   ]
  },
  {
   "cell_type": "code",
   "execution_count": null,
   "metadata": {},
   "outputs": [],
   "source": [
    "svm_mod = SVC(C = clf.best_estimator_.C,\n",
    "                  gamma = clf.best_estimator_.gamma,\n",
    "                  class_weight = clf.best_estimator_.class_weight,\n",
    "                  probability=True) \n",
    "svm_mod.fit(X_train, y_train)"
   ]
  },
  {
   "cell_type": "code",
   "execution_count": null,
   "metadata": {
    "scrolled": true
   },
   "outputs": [],
   "source": [
    "svm_pred = svm_mod.predict(X_test)\n",
    "print_metrics_3(y_test, svm_pred)"
   ]
  },
  {
   "cell_type": "code",
   "execution_count": null,
   "metadata": {},
   "outputs": [],
   "source": []
  }
 ],
 "metadata": {
  "kernelspec": {
   "display_name": "Python 3",
   "language": "python",
   "name": "python3"
  },
  "language_info": {
   "codemirror_mode": {
    "name": "ipython",
    "version": 3
   },
   "file_extension": ".py",
   "mimetype": "text/x-python",
   "name": "python",
   "nbconvert_exporter": "python",
   "pygments_lexer": "ipython3",
   "version": "3.6.6"
  }
 },
 "nbformat": 4,
 "nbformat_minor": 2
}
