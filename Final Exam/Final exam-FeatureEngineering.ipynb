{
 "cells": [
  {
   "cell_type": "code",
   "execution_count": 1,
   "metadata": {},
   "outputs": [],
   "source": [
    "import pandas as pd\n",
    "import numpy as np\n",
    "import matplotlib.pyplot as plt\n",
    "import seaborn as sns\n",
    "\n",
    "import numpy.random as nr\n",
    "from sklearn.cluster import KMeans, AgglomerativeClustering\n",
    "from sklearn.metrics import silhouette_score\n",
    "from sklearn.preprocessing import StandardScaler\n",
    "\n",
    "%matplotlib inline"
   ]
  },
  {
   "cell_type": "code",
   "execution_count": 2,
   "metadata": {},
   "outputs": [],
   "source": [
    "df_aw_custs = pd.read_csv('./AdvWorksCusts.csv')\n",
    "df_aw_spend = pd.read_csv('./AW_AveMonthSpend.csv')\n",
    "df_aw_bike_buyer = pd.read_csv('./AW_BikeBuyer.csv')"
   ]
  },
  {
   "cell_type": "code",
   "execution_count": 3,
   "metadata": {},
   "outputs": [
    {
     "name": "stdout",
     "output_type": "stream",
     "text": [
      "   CustomerID Title  FirstName MiddleName LastName Suffix  \\\n",
      "0       11000   NaN        Jon          V     Yang    NaN   \n",
      "1       11001   NaN     Eugene          L    Huang    NaN   \n",
      "2       11002   NaN      Ruben        NaN   Torres    NaN   \n",
      "3       11003   NaN    Christy        NaN      Zhu    NaN   \n",
      "4       11004   NaN  Elizabeth        NaN  Johnson    NaN   \n",
      "\n",
      "          AddressLine1 AddressLine2         City StateProvinceName  \\\n",
      "0      3761 N. 14th St          NaN  Rockhampton        Queensland   \n",
      "1           2243 W St.          NaN      Seaford          Victoria   \n",
      "2     5844 Linden Land          NaN       Hobart          Tasmania   \n",
      "3     1825 Village Pl.          NaN   North Ryde   New South Wales   \n",
      "4  7553 Harness Circle          NaN   Wollongong   New South Wales   \n",
      "\n",
      "       ...        BirthDate   Education    Occupation Gender MaritalStatus  \\\n",
      "0      ...       1966-04-08  Bachelors   Professional      M             M   \n",
      "1      ...       1965-05-14  Bachelors   Professional      M             S   \n",
      "2      ...       1965-08-12  Bachelors   Professional      M             M   \n",
      "3      ...       1968-02-15  Bachelors   Professional      F             S   \n",
      "4      ...       1968-08-08  Bachelors   Professional      F             S   \n",
      "\n",
      "  HomeOwnerFlag NumberCarsOwned NumberChildrenAtHome  TotalChildren  \\\n",
      "0             1               0                    0              2   \n",
      "1             0               1                    3              3   \n",
      "2             1               1                    3              3   \n",
      "3             0               1                    0              0   \n",
      "4             1               4                    5              5   \n",
      "\n",
      "   YearlyIncome  \n",
      "0        137947  \n",
      "1        101141  \n",
      "2         91945  \n",
      "3         86688  \n",
      "4         92771  \n",
      "\n",
      "[5 rows x 23 columns]\n",
      "   CustomerID  AveMonthSpend\n",
      "0       11000             89\n",
      "1       11001            117\n",
      "2       11002            123\n",
      "3       11003             50\n",
      "4       11004             95\n",
      "   CustomerID  BikeBuyer\n",
      "0       11000          0\n",
      "1       11001          1\n",
      "2       11002          0\n",
      "3       11003          0\n",
      "4       11004          1\n"
     ]
    }
   ],
   "source": [
    "print(df_aw_custs.head())\n",
    "print(df_aw_spend.head())\n",
    "print(df_aw_bike_buyer.head())"
   ]
  },
  {
   "cell_type": "code",
   "execution_count": 4,
   "metadata": {},
   "outputs": [
    {
     "name": "stdout",
     "output_type": "stream",
     "text": [
      "         CustomerID  AveMonthSpend\n",
      "count  16519.000000   16519.000000\n",
      "mean   20234.225195      72.405957\n",
      "std     5342.515987      27.285370\n",
      "min    11000.000000      22.000000\n",
      "25%    15604.500000      52.000000\n",
      "50%    20221.000000      68.000000\n",
      "75%    24860.500000      84.000000\n",
      "max    29482.000000     176.000000\n",
      "(16519, 2)\n",
      "(16404,)\n"
     ]
    }
   ],
   "source": [
    "print(df_aw_spend.describe())\n",
    "print(df_aw_spend.shape)\n",
    "print(df_aw_spend.CustomerID.unique().shape)"
   ]
  },
  {
   "cell_type": "code",
   "execution_count": 5,
   "metadata": {},
   "outputs": [],
   "source": [
    "df_aw_spend.drop_duplicates(inplace=True, keep='last', subset=\"CustomerID\")\n"
   ]
  },
  {
   "cell_type": "code",
   "execution_count": 6,
   "metadata": {},
   "outputs": [
    {
     "data": {
      "text/html": [
       "<div>\n",
       "<style scoped>\n",
       "    .dataframe tbody tr th:only-of-type {\n",
       "        vertical-align: middle;\n",
       "    }\n",
       "\n",
       "    .dataframe tbody tr th {\n",
       "        vertical-align: top;\n",
       "    }\n",
       "\n",
       "    .dataframe thead th {\n",
       "        text-align: right;\n",
       "    }\n",
       "</style>\n",
       "<table border=\"1\" class=\"dataframe\">\n",
       "  <thead>\n",
       "    <tr style=\"text-align: right;\">\n",
       "      <th></th>\n",
       "      <th>CustomerID</th>\n",
       "      <th>AveMonthSpend</th>\n",
       "    </tr>\n",
       "  </thead>\n",
       "  <tbody>\n",
       "    <tr>\n",
       "      <th>count</th>\n",
       "      <td>16404.000000</td>\n",
       "      <td>16404.000000</td>\n",
       "    </tr>\n",
       "    <tr>\n",
       "      <th>mean</th>\n",
       "      <td>20240.143136</td>\n",
       "      <td>72.391002</td>\n",
       "    </tr>\n",
       "    <tr>\n",
       "      <th>std</th>\n",
       "      <td>5340.370705</td>\n",
       "      <td>27.269921</td>\n",
       "    </tr>\n",
       "    <tr>\n",
       "      <th>min</th>\n",
       "      <td>11000.000000</td>\n",
       "      <td>22.000000</td>\n",
       "    </tr>\n",
       "    <tr>\n",
       "      <th>25%</th>\n",
       "      <td>15617.750000</td>\n",
       "      <td>52.000000</td>\n",
       "    </tr>\n",
       "    <tr>\n",
       "      <th>50%</th>\n",
       "      <td>20231.500000</td>\n",
       "      <td>68.000000</td>\n",
       "    </tr>\n",
       "    <tr>\n",
       "      <th>75%</th>\n",
       "      <td>24862.250000</td>\n",
       "      <td>84.000000</td>\n",
       "    </tr>\n",
       "    <tr>\n",
       "      <th>max</th>\n",
       "      <td>29482.000000</td>\n",
       "      <td>176.000000</td>\n",
       "    </tr>\n",
       "  </tbody>\n",
       "</table>\n",
       "</div>"
      ],
      "text/plain": [
       "         CustomerID  AveMonthSpend\n",
       "count  16404.000000   16404.000000\n",
       "mean   20240.143136      72.391002\n",
       "std     5340.370705      27.269921\n",
       "min    11000.000000      22.000000\n",
       "25%    15617.750000      52.000000\n",
       "50%    20231.500000      68.000000\n",
       "75%    24862.250000      84.000000\n",
       "max    29482.000000     176.000000"
      ]
     },
     "execution_count": 6,
     "metadata": {},
     "output_type": "execute_result"
    }
   ],
   "source": [
    "df_aw_spend.describe()"
   ]
  },
  {
   "cell_type": "code",
   "execution_count": 7,
   "metadata": {},
   "outputs": [
    {
     "name": "stdout",
     "output_type": "stream",
     "text": [
      "         CustomerID     BikeBuyer\n",
      "count  16519.000000  16519.000000\n",
      "mean   20234.225195      0.332284\n",
      "std     5342.515987      0.471046\n",
      "min    11000.000000      0.000000\n",
      "25%    15604.500000      0.000000\n",
      "50%    20221.000000      0.000000\n",
      "75%    24860.500000      1.000000\n",
      "max    29482.000000      1.000000\n",
      "(16519, 2)\n",
      "(16404,)\n"
     ]
    }
   ],
   "source": [
    "print(df_aw_bike_buyer.describe())\n",
    "print(df_aw_bike_buyer.shape)\n",
    "print(df_aw_bike_buyer.CustomerID.unique().shape)"
   ]
  },
  {
   "cell_type": "code",
   "execution_count": 8,
   "metadata": {},
   "outputs": [],
   "source": [
    "df_aw_bike_buyer.drop_duplicates(inplace=True, keep='last', subset=\"CustomerID\")"
   ]
  },
  {
   "cell_type": "code",
   "execution_count": 9,
   "metadata": {},
   "outputs": [
    {
     "data": {
      "text/plain": [
       "<matplotlib.axes._subplots.AxesSubplot at 0x1bd128721d0>"
      ]
     },
     "execution_count": 9,
     "metadata": {},
     "output_type": "execute_result"
    },
    {
     "data": {
      "image/png": "[encoded data removed]",
      "text/plain": [
       "<Figure size 432x288 with 1 Axes>"
      ]
     },
     "metadata": {},
     "output_type": "display_data"
    }
   ],
   "source": [
    "df_aw_bike_buyer.BikeBuyer.hist()"
   ]
  },
  {
   "cell_type": "code",
   "execution_count": 10,
   "metadata": {},
   "outputs": [
    {
     "name": "stdout",
     "output_type": "stream",
     "text": [
      "(16519, 23)\n",
      "(16404,)\n"
     ]
    }
   ],
   "source": [
    "print(df_aw_custs.shape)\n",
    "print(df_aw_custs.CustomerID.unique().shape)"
   ]
  },
  {
   "cell_type": "code",
   "execution_count": 11,
   "metadata": {},
   "outputs": [],
   "source": [
    "df_aw_custs.drop_duplicates(inplace=True, keep='last', subset=\"CustomerID\")"
   ]
  },
  {
   "cell_type": "code",
   "execution_count": 12,
   "metadata": {},
   "outputs": [
    {
     "data": {
      "text/html": [
       "<div>\n",
       "<style scoped>\n",
       "    .dataframe tbody tr th:only-of-type {\n",
       "        vertical-align: middle;\n",
       "    }\n",
       "\n",
       "    .dataframe tbody tr th {\n",
       "        vertical-align: top;\n",
       "    }\n",
       "\n",
       "    .dataframe thead th {\n",
       "        text-align: right;\n",
       "    }\n",
       "</style>\n",
       "<table border=\"1\" class=\"dataframe\">\n",
       "  <thead>\n",
       "    <tr style=\"text-align: right;\">\n",
       "      <th></th>\n",
       "      <th>YearlyIncome</th>\n",
       "    </tr>\n",
       "    <tr>\n",
       "      <th>Occupation</th>\n",
       "      <th></th>\n",
       "    </tr>\n",
       "  </thead>\n",
       "  <tbody>\n",
       "    <tr>\n",
       "      <th>Clerical</th>\n",
       "      <td>49481.0</td>\n",
       "    </tr>\n",
       "    <tr>\n",
       "      <th>Management</th>\n",
       "      <td>118781.0</td>\n",
       "    </tr>\n",
       "    <tr>\n",
       "      <th>Manual</th>\n",
       "      <td>21722.0</td>\n",
       "    </tr>\n",
       "    <tr>\n",
       "      <th>Professional</th>\n",
       "      <td>99058.0</td>\n",
       "    </tr>\n",
       "    <tr>\n",
       "      <th>Skilled Manual</th>\n",
       "      <td>66471.5</td>\n",
       "    </tr>\n",
       "  </tbody>\n",
       "</table>\n",
       "</div>"
      ],
      "text/plain": [
       "                YearlyIncome\n",
       "Occupation                  \n",
       "Clerical             49481.0\n",
       "Management          118781.0\n",
       "Manual               21722.0\n",
       "Professional         99058.0\n",
       "Skilled Manual       66471.5"
      ]
     },
     "execution_count": 12,
     "metadata": {},
     "output_type": "execute_result"
    }
   ],
   "source": [
    "df_aw_custs[[\"YearlyIncome\", \"Occupation\"]].groupby(\"Occupation\").median()"
   ]
  },
  {
   "cell_type": "code",
   "execution_count": 13,
   "metadata": {},
   "outputs": [
    {
     "data": {
      "text/html": [
       "<div>\n",
       "<style scoped>\n",
       "    .dataframe tbody tr th:only-of-type {\n",
       "        vertical-align: middle;\n",
       "    }\n",
       "\n",
       "    .dataframe tbody tr th {\n",
       "        vertical-align: top;\n",
       "    }\n",
       "\n",
       "    .dataframe thead th {\n",
       "        text-align: right;\n",
       "    }\n",
       "</style>\n",
       "<table border=\"1\" class=\"dataframe\">\n",
       "  <thead>\n",
       "    <tr style=\"text-align: right;\">\n",
       "      <th></th>\n",
       "      <th>CustomerID</th>\n",
       "      <th>AveMonthSpend</th>\n",
       "    </tr>\n",
       "  </thead>\n",
       "  <tbody>\n",
       "    <tr>\n",
       "      <th>0</th>\n",
       "      <td>11000</td>\n",
       "      <td>89</td>\n",
       "    </tr>\n",
       "    <tr>\n",
       "      <th>1</th>\n",
       "      <td>11001</td>\n",
       "      <td>117</td>\n",
       "    </tr>\n",
       "    <tr>\n",
       "      <th>2</th>\n",
       "      <td>11002</td>\n",
       "      <td>123</td>\n",
       "    </tr>\n",
       "    <tr>\n",
       "      <th>3</th>\n",
       "      <td>11003</td>\n",
       "      <td>50</td>\n",
       "    </tr>\n",
       "    <tr>\n",
       "      <th>4</th>\n",
       "      <td>11004</td>\n",
       "      <td>95</td>\n",
       "    </tr>\n",
       "  </tbody>\n",
       "</table>\n",
       "</div>"
      ],
      "text/plain": [
       "   CustomerID  AveMonthSpend\n",
       "0       11000             89\n",
       "1       11001            117\n",
       "2       11002            123\n",
       "3       11003             50\n",
       "4       11004             95"
      ]
     },
     "execution_count": 13,
     "metadata": {},
     "output_type": "execute_result"
    }
   ],
   "source": [
    "df_aw_spend.head()"
   ]
  },
  {
   "cell_type": "code",
   "execution_count": 14,
   "metadata": {},
   "outputs": [],
   "source": [
    "df_aw_custs.set_index(\"CustomerID\", inplace=True)\n",
    "df_aw_spend.set_index(\"CustomerID\", inplace=True)\n",
    "df_aw_bike_buyer.set_index(\"CustomerID\", inplace=True)"
   ]
  },
  {
   "cell_type": "code",
   "execution_count": 15,
   "metadata": {},
   "outputs": [
    {
     "name": "stdout",
     "output_type": "stream",
     "text": [
      "            AveMonthSpend\n",
      "CustomerID               \n",
      "11000                  89\n",
      "11001                 117\n",
      "11002                 123\n",
      "11003                  50\n",
      "11004                  95\n",
      "            AveMonthSpend\n",
      "CustomerID               \n",
      "11000                  89\n",
      "11001                 117\n",
      "11002                 123\n",
      "11003                  50\n",
      "11004                  95\n"
     ]
    }
   ],
   "source": [
    "print(df_aw_spend.head())\n",
    "df_joined = df_aw_custs.join(df_aw_spend)\n",
    "df_joined = df_joined.join(df_aw_bike_buyer)\n",
    "print(df_joined[[\"AveMonthSpend\"]].head())"
   ]
  },
  {
   "cell_type": "code",
   "execution_count": 16,
   "metadata": {},
   "outputs": [
    {
     "name": "stdout",
     "output_type": "stream",
     "text": [
      "Index(['Title', 'FirstName', 'MiddleName', 'LastName', 'Suffix',\n",
      "       'AddressLine1', 'AddressLine2', 'City', 'StateProvinceName',\n",
      "       'CountryRegionName', 'PostalCode', 'PhoneNumber', 'BirthDate',\n",
      "       'Education', 'Occupation', 'Gender', 'MaritalStatus', 'HomeOwnerFlag',\n",
      "       'NumberCarsOwned', 'NumberChildrenAtHome', 'TotalChildren',\n",
      "       'YearlyIncome', 'AveMonthSpend', 'BikeBuyer'],\n",
      "      dtype='object')\n"
     ]
    }
   ],
   "source": [
    "print(df_joined.columns)\n",
    "df_joined[[\"Gender\", \"AveMonthSpend\", \"BirthDate\"]]\n",
    "df_joined.dtypes\n",
    "df_joined[\"Age\"] = (pd.Timestamp(\"1998-01-01\") - pd.to_datetime(df_joined[\"BirthDate\"])).astype('<m8[Y]').astype(\"int\")"
   ]
  },
  {
   "cell_type": "code",
   "execution_count": 17,
   "metadata": {},
   "outputs": [],
   "source": [
    "def age_group(age):\n",
    "    if age < 25:\n",
    "        return \"<25\"\n",
    "    elif age < 45:\n",
    "        return \"25-45\"\n",
    "    elif age < 55:\n",
    "        return \"45-55\"\n",
    "    else:\n",
    "        return \">=55\""
   ]
  },
  {
   "cell_type": "code",
   "execution_count": 18,
   "metadata": {},
   "outputs": [],
   "source": [
    "df_joined[\"AgeGroup\"] = df_joined[\"Age\"].map(age_group)"
   ]
  },
  {
   "cell_type": "code",
   "execution_count": 19,
   "metadata": {},
   "outputs": [
    {
     "data": {
      "text/html": [
       "<div>\n",
       "<style scoped>\n",
       "    .dataframe tbody tr th:only-of-type {\n",
       "        vertical-align: middle;\n",
       "    }\n",
       "\n",
       "    .dataframe tbody tr th {\n",
       "        vertical-align: top;\n",
       "    }\n",
       "\n",
       "    .dataframe thead th {\n",
       "        text-align: right;\n",
       "    }\n",
       "</style>\n",
       "<table border=\"1\" class=\"dataframe\">\n",
       "  <thead>\n",
       "    <tr style=\"text-align: right;\">\n",
       "      <th></th>\n",
       "      <th>BikeBuyer</th>\n",
       "    </tr>\n",
       "    <tr>\n",
       "      <th>AgeGroup</th>\n",
       "      <th></th>\n",
       "    </tr>\n",
       "  </thead>\n",
       "  <tbody>\n",
       "    <tr>\n",
       "      <th>25-45</th>\n",
       "      <td>9981</td>\n",
       "    </tr>\n",
       "    <tr>\n",
       "      <th>45-55</th>\n",
       "      <td>2437</td>\n",
       "    </tr>\n",
       "    <tr>\n",
       "      <th>&lt;25</th>\n",
       "      <td>2932</td>\n",
       "    </tr>\n",
       "    <tr>\n",
       "      <th>&gt;=55</th>\n",
       "      <td>1054</td>\n",
       "    </tr>\n",
       "  </tbody>\n",
       "</table>\n",
       "</div>"
      ],
      "text/plain": [
       "          BikeBuyer\n",
       "AgeGroup           \n",
       "25-45          9981\n",
       "45-55          2437\n",
       "<25            2932\n",
       ">=55           1054"
      ]
     },
     "execution_count": 19,
     "metadata": {},
     "output_type": "execute_result"
    }
   ],
   "source": [
    "df_joined[[\"AgeGroup\", \"BikeBuyer\"]].groupby(\"AgeGroup\").count()\n"
   ]
  },
  {
   "cell_type": "code",
   "execution_count": 20,
   "metadata": {},
   "outputs": [
    {
     "data": {
      "text/plain": [
       "Title                   object\n",
       "FirstName               object\n",
       "MiddleName              object\n",
       "LastName                object\n",
       "Suffix                  object\n",
       "AddressLine1            object\n",
       "AddressLine2            object\n",
       "City                    object\n",
       "StateProvinceName       object\n",
       "CountryRegionName       object\n",
       "PostalCode              object\n",
       "PhoneNumber             object\n",
       "BirthDate               object\n",
       "Education               object\n",
       "Occupation              object\n",
       "Gender                  object\n",
       "MaritalStatus           object\n",
       "HomeOwnerFlag            int64\n",
       "NumberCarsOwned          int64\n",
       "NumberChildrenAtHome     int64\n",
       "TotalChildren            int64\n",
       "YearlyIncome             int64\n",
       "AveMonthSpend            int64\n",
       "BikeBuyer                int64\n",
       "Age                      int32\n",
       "AgeGroup                object\n",
       "dtype: object"
      ]
     },
     "execution_count": 20,
     "metadata": {},
     "output_type": "execute_result"
    }
   ],
   "source": [
    "df_joined.dtypes"
   ]
  },
  {
   "cell_type": "code",
   "execution_count": 43,
   "metadata": {},
   "outputs": [],
   "source": [
    "df_joined = df_joined[[\"Age\",\"AgeGroup\",\"YearlyIncome\", \"Education\", \"Occupation\", \"Gender\", \"MaritalStatus\",\"HomeOwnerFlag\",\"NumberCarsOwned\",\"NumberChildrenAtHome\",\"TotalChildren\",\"AveMonthSpend\",\"BikeBuyer\"]]"
   ]
  },
  {
   "cell_type": "code",
   "execution_count": 44,
   "metadata": {},
   "outputs": [],
   "source": [
    "df_joined[\"BikeBuyer\"] = df_joined[\"BikeBuyer\"].astype(\"category\")\n",
    "df_joined[\"HomeOwnerFlag\"] = df_joined[\"HomeOwnerFlag\"].astype(\"category\")\n",
    "df_joined[\"MaritalStatus\"] = df_joined[\"MaritalStatus\"].astype(\"category\")\n"
   ]
  },
  {
   "cell_type": "code",
   "execution_count": 47,
   "metadata": {},
   "outputs": [
    {
     "data": {
      "text/html": [
       "<div>\n",
       "<style scoped>\n",
       "    .dataframe tbody tr th:only-of-type {\n",
       "        vertical-align: middle;\n",
       "    }\n",
       "\n",
       "    .dataframe tbody tr th {\n",
       "        vertical-align: top;\n",
       "    }\n",
       "\n",
       "    .dataframe thead tr th {\n",
       "        text-align: left;\n",
       "    }\n",
       "\n",
       "    .dataframe thead tr:last-of-type th {\n",
       "        text-align: right;\n",
       "    }\n",
       "</style>\n",
       "<table border=\"1\" class=\"dataframe\">\n",
       "  <thead>\n",
       "    <tr>\n",
       "      <th></th>\n",
       "      <th></th>\n",
       "      <th colspan=\"4\" halign=\"left\">BikeBuyer</th>\n",
       "    </tr>\n",
       "    <tr>\n",
       "      <th></th>\n",
       "      <th></th>\n",
       "      <th>count</th>\n",
       "      <th>unique</th>\n",
       "      <th>top</th>\n",
       "      <th>freq</th>\n",
       "    </tr>\n",
       "    <tr>\n",
       "      <th>AgeGroup</th>\n",
       "      <th>Gender</th>\n",
       "      <th></th>\n",
       "      <th></th>\n",
       "      <th></th>\n",
       "      <th></th>\n",
       "    </tr>\n",
       "  </thead>\n",
       "  <tbody>\n",
       "    <tr>\n",
       "      <th rowspan=\"2\" valign=\"top\">25-45</th>\n",
       "      <th>F</th>\n",
       "      <td>4914</td>\n",
       "      <td>2</td>\n",
       "      <td>0</td>\n",
       "      <td>3288</td>\n",
       "    </tr>\n",
       "    <tr>\n",
       "      <th>M</th>\n",
       "      <td>5067</td>\n",
       "      <td>2</td>\n",
       "      <td>1</td>\n",
       "      <td>2583</td>\n",
       "    </tr>\n",
       "    <tr>\n",
       "      <th rowspan=\"2\" valign=\"top\">45-55</th>\n",
       "      <th>F</th>\n",
       "      <td>1210</td>\n",
       "      <td>2</td>\n",
       "      <td>0</td>\n",
       "      <td>961</td>\n",
       "    </tr>\n",
       "    <tr>\n",
       "      <th>M</th>\n",
       "      <td>1227</td>\n",
       "      <td>2</td>\n",
       "      <td>0</td>\n",
       "      <td>973</td>\n",
       "    </tr>\n",
       "    <tr>\n",
       "      <th rowspan=\"2\" valign=\"top\">&lt;25</th>\n",
       "      <th>F</th>\n",
       "      <td>1456</td>\n",
       "      <td>2</td>\n",
       "      <td>0</td>\n",
       "      <td>1116</td>\n",
       "    </tr>\n",
       "    <tr>\n",
       "      <th>M</th>\n",
       "      <td>1476</td>\n",
       "      <td>2</td>\n",
       "      <td>0</td>\n",
       "      <td>1113</td>\n",
       "    </tr>\n",
       "    <tr>\n",
       "      <th rowspan=\"2\" valign=\"top\">&gt;=55</th>\n",
       "      <th>F</th>\n",
       "      <td>534</td>\n",
       "      <td>2</td>\n",
       "      <td>0</td>\n",
       "      <td>516</td>\n",
       "    </tr>\n",
       "    <tr>\n",
       "      <th>M</th>\n",
       "      <td>520</td>\n",
       "      <td>2</td>\n",
       "      <td>0</td>\n",
       "      <td>498</td>\n",
       "    </tr>\n",
       "  </tbody>\n",
       "</table>\n",
       "</div>"
      ],
      "text/plain": [
       "                BikeBuyer                 \n",
       "                    count unique top  freq\n",
       "AgeGroup Gender                           \n",
       "25-45    F           4914      2   0  3288\n",
       "         M           5067      2   1  2583\n",
       "45-55    F           1210      2   0   961\n",
       "         M           1227      2   0   973\n",
       "<25      F           1456      2   0  1116\n",
       "         M           1476      2   0  1113\n",
       ">=55     F            534      2   0   516\n",
       "         M            520      2   0   498"
      ]
     },
     "execution_count": 47,
     "metadata": {},
     "output_type": "execute_result"
    }
   ],
   "source": [
    "df_joined[[\"AgeGroup\", \"BikeBuyer\", \"Gender\"]].groupby([\"AgeGroup\", \"Gender\"]).describe()"
   ]
  },
  {
   "cell_type": "code",
   "execution_count": 24,
   "metadata": {},
   "outputs": [],
   "source": [
    "def plot_box(data, cols_y, col_x = 'BikeBuyer', hue = \"BikeBuyer\"):\n",
    "    for col_y in cols_y:\n",
    "        sns.set_style(\"whitegrid\")\n",
    "        sns.boxplot(x=col_x, y=col_y, data=data, palette='RdBu_r', hue = hue)\n",
    "        plt.xlabel(col_x) # Set text for the x axis\n",
    "        plt.ylabel(col_y)# Set text for y axis\n",
    "        plt.show()\n",
    "        \n",
    "\n",
    "cols = [\"AveMonthSpend\", \"YearlyIncome\", \"Age\", \"NumberChildrenAtHome\", \"TotalChildren\", \"NumberCarsOwned\"]\n",
    "plot_box(df_joined, cols)"
   ]
  },
  {
   "cell_type": "code",
   "execution_count": 48,
   "metadata": {},
   "outputs": [
    {
     "data": {
      "image/png": "[encoded data removed]",
      "text/plain": [
       "<Figure size 432x288 with 1 Axes>"
      ]
     },
     "metadata": {},
     "output_type": "display_data"
    },
    {
     "data": {
      "image/png": "[encoded data removed]",
      "text/plain": [
       "<Figure size 432x288 with 1 Axes>"
      ]
     },
     "metadata": {},
     "output_type": "display_data"
    },
    {
     "data": {
      "image/png": "[encoded data removed]",
      "text/plain": [
       "<Figure size 432x288 with 1 Axes>"
      ]
     },
     "metadata": {},
     "output_type": "display_data"
    },
    {
     "data": {
      "image/png": "[encoded data removed]",
      "text/plain": [
       "<Figure size 432x288 with 1 Axes>"
      ]
     },
     "metadata": {},
     "output_type": "display_data"
    },
    {
     "data": {
      "image/png": "[encoded data removed]",
      "text/plain": [
       "<Figure size 432x288 with 1 Axes>"
      ]
     },
     "metadata": {},
     "output_type": "display_data"
    },
    {
     "data": {
      "image/png": "[encoded data removed]",
      "text/plain": [
       "<Figure size 432x288 with 1 Axes>"
      ]
     },
     "metadata": {},
     "output_type": "display_data"
    }
   ],
   "source": [
    "cols = [\"AveMonthSpend\", \"YearlyIncome\", \"Age\", \"NumberChildrenAtHome\", \"TotalChildren\", \"NumberCarsOwned\"]\n",
    "plot_box(df_joined, cols, \"BikeBuyer\", \"Gender\")"
   ]
  },
  {
   "cell_type": "code",
   "execution_count": 27,
   "metadata": {},
   "outputs": [
    {
     "data": {
      "image/png": "[encoded data removed]",
      "text/plain": [
       "<Figure size 432x288 with 1 Axes>"
      ]
     },
     "metadata": {},
     "output_type": "display_data"
    },
    {
     "data": {
      "image/png": "[encoded data removed]",
      "text/plain": [
       "<Figure size 432x288 with 1 Axes>"
      ]
     },
     "metadata": {},
     "output_type": "display_data"
    },
    {
     "data": {
      "image/png": "[encoded data removed]",
      "text/plain": [
       "<Figure size 432x288 with 1 Axes>"
      ]
     },
     "metadata": {},
     "output_type": "display_data"
    },
    {
     "data": {
      "image/png": "[encoded data removed]",
      "text/plain": [
       "<Figure size 432x288 with 1 Axes>"
      ]
     },
     "metadata": {},
     "output_type": "display_data"
    },
    {
     "data": {
      "image/png": "[encoded data removed]",
      "text/plain": [
       "<Figure size 432x288 with 1 Axes>"
      ]
     },
     "metadata": {},
     "output_type": "display_data"
    },
    {
     "data": {
      "image/png": "[encoded data removed]",
      "text/plain": [
       "<Figure size 432x288 with 1 Axes>"
      ]
     },
     "metadata": {},
     "output_type": "display_data"
    }
   ],
   "source": [
    "cols = [\"AveMonthSpend\", \"YearlyIncome\", \"Age\", \"NumberChildrenAtHome\", \"TotalChildren\", \"NumberCarsOwned\"]\n",
    "plot_box(df_joined, cols, \"BikeBuyer\", \"Occupation\")"
   ]
  },
  {
   "cell_type": "code",
   "execution_count": 28,
   "metadata": {},
   "outputs": [
    {
     "data": {
      "text/plain": [
       "Int64Index([11000, 11001, 11002, 11003, 11004, 11005, 11006, 11007, 11008,\n",
       "            11009,\n",
       "            ...\n",
       "            13139, 18651, 24992, 11442, 18487, 13121, 26100, 11328, 23077,\n",
       "            18982],\n",
       "           dtype='int64', name='CustomerID', length=16404)"
      ]
     },
     "execution_count": 28,
     "metadata": {},
     "output_type": "execute_result"
    }
   ],
   "source": [
    "df_joined.index"
   ]
  },
  {
   "cell_type": "code",
   "execution_count": 29,
   "metadata": {},
   "outputs": [
    {
     "data": {
      "text/html": [
       "<div>\n",
       "<style scoped>\n",
       "    .dataframe tbody tr th:only-of-type {\n",
       "        vertical-align: middle;\n",
       "    }\n",
       "\n",
       "    .dataframe tbody tr th {\n",
       "        vertical-align: top;\n",
       "    }\n",
       "\n",
       "    .dataframe thead tr th {\n",
       "        text-align: left;\n",
       "    }\n",
       "\n",
       "    .dataframe thead tr:last-of-type th {\n",
       "        text-align: right;\n",
       "    }\n",
       "</style>\n",
       "<table border=\"1\" class=\"dataframe\">\n",
       "  <thead>\n",
       "    <tr>\n",
       "      <th></th>\n",
       "      <th colspan=\"8\" halign=\"left\">NumberCarsOwned</th>\n",
       "    </tr>\n",
       "    <tr>\n",
       "      <th></th>\n",
       "      <th>count</th>\n",
       "      <th>mean</th>\n",
       "      <th>std</th>\n",
       "      <th>min</th>\n",
       "      <th>25%</th>\n",
       "      <th>50%</th>\n",
       "      <th>75%</th>\n",
       "      <th>max</th>\n",
       "    </tr>\n",
       "    <tr>\n",
       "      <th>BikeBuyer</th>\n",
       "      <th></th>\n",
       "      <th></th>\n",
       "      <th></th>\n",
       "      <th></th>\n",
       "      <th></th>\n",
       "      <th></th>\n",
       "      <th></th>\n",
       "      <th></th>\n",
       "    </tr>\n",
       "  </thead>\n",
       "  <tbody>\n",
       "    <tr>\n",
       "      <th>0</th>\n",
       "      <td>10949.0</td>\n",
       "      <td>1.367248</td>\n",
       "      <td>1.021521</td>\n",
       "      <td>0.0</td>\n",
       "      <td>1.0</td>\n",
       "      <td>1.0</td>\n",
       "      <td>2.0</td>\n",
       "      <td>4.0</td>\n",
       "    </tr>\n",
       "    <tr>\n",
       "      <th>1</th>\n",
       "      <td>5455.0</td>\n",
       "      <td>1.765720</td>\n",
       "      <td>1.304599</td>\n",
       "      <td>0.0</td>\n",
       "      <td>1.0</td>\n",
       "      <td>2.0</td>\n",
       "      <td>3.0</td>\n",
       "      <td>4.0</td>\n",
       "    </tr>\n",
       "  </tbody>\n",
       "</table>\n",
       "</div>"
      ],
      "text/plain": [
       "          NumberCarsOwned                                             \n",
       "                    count      mean       std  min  25%  50%  75%  max\n",
       "BikeBuyer                                                             \n",
       "0                 10949.0  1.367248  1.021521  0.0  1.0  1.0  2.0  4.0\n",
       "1                  5455.0  1.765720  1.304599  0.0  1.0  2.0  3.0  4.0"
      ]
     },
     "execution_count": 29,
     "metadata": {},
     "output_type": "execute_result"
    }
   ],
   "source": [
    "df_joined[['BikeBuyer', 'NumberCarsOwned']].groupby('BikeBuyer').describe()\n"
   ]
  },
  {
   "cell_type": "code",
   "execution_count": 30,
   "metadata": {},
   "outputs": [
    {
     "data": {
      "text/html": [
       "<div>\n",
       "<style scoped>\n",
       "    .dataframe tbody tr th:only-of-type {\n",
       "        vertical-align: middle;\n",
       "    }\n",
       "\n",
       "    .dataframe tbody tr th {\n",
       "        vertical-align: top;\n",
       "    }\n",
       "\n",
       "    .dataframe thead tr th {\n",
       "        text-align: left;\n",
       "    }\n",
       "\n",
       "    .dataframe thead tr:last-of-type th {\n",
       "        text-align: right;\n",
       "    }\n",
       "</style>\n",
       "<table border=\"1\" class=\"dataframe\">\n",
       "  <thead>\n",
       "    <tr>\n",
       "      <th></th>\n",
       "      <th colspan=\"4\" halign=\"left\">BikeBuyer</th>\n",
       "    </tr>\n",
       "    <tr>\n",
       "      <th></th>\n",
       "      <th>count</th>\n",
       "      <th>unique</th>\n",
       "      <th>top</th>\n",
       "      <th>freq</th>\n",
       "    </tr>\n",
       "    <tr>\n",
       "      <th>Occupation</th>\n",
       "      <th></th>\n",
       "      <th></th>\n",
       "      <th></th>\n",
       "      <th></th>\n",
       "    </tr>\n",
       "  </thead>\n",
       "  <tbody>\n",
       "    <tr>\n",
       "      <th>Clerical</th>\n",
       "      <td>2597</td>\n",
       "      <td>2</td>\n",
       "      <td>0</td>\n",
       "      <td>1981</td>\n",
       "    </tr>\n",
       "    <tr>\n",
       "      <th>Management</th>\n",
       "      <td>2718</td>\n",
       "      <td>2</td>\n",
       "      <td>0</td>\n",
       "      <td>1702</td>\n",
       "    </tr>\n",
       "    <tr>\n",
       "      <th>Manual</th>\n",
       "      <td>2129</td>\n",
       "      <td>2</td>\n",
       "      <td>0</td>\n",
       "      <td>1625</td>\n",
       "    </tr>\n",
       "    <tr>\n",
       "      <th>Professional</th>\n",
       "      <td>4922</td>\n",
       "      <td>2</td>\n",
       "      <td>0</td>\n",
       "      <td>2738</td>\n",
       "    </tr>\n",
       "    <tr>\n",
       "      <th>Skilled Manual</th>\n",
       "      <td>4038</td>\n",
       "      <td>2</td>\n",
       "      <td>0</td>\n",
       "      <td>2903</td>\n",
       "    </tr>\n",
       "  </tbody>\n",
       "</table>\n",
       "</div>"
      ],
      "text/plain": [
       "               BikeBuyer                 \n",
       "                   count unique top  freq\n",
       "Occupation                               \n",
       "Clerical            2597      2   0  1981\n",
       "Management          2718      2   0  1702\n",
       "Manual              2129      2   0  1625\n",
       "Professional        4922      2   0  2738\n",
       "Skilled Manual      4038      2   0  2903"
      ]
     },
     "execution_count": 30,
     "metadata": {},
     "output_type": "execute_result"
    }
   ],
   "source": [
    "df_joined[['BikeBuyer', 'Occupation']].groupby('Occupation').describe()"
   ]
  },
  {
   "cell_type": "code",
   "execution_count": 31,
   "metadata": {},
   "outputs": [],
   "source": [
    "from sklearn import preprocessing\n",
    "import sklearn.model_selection as ms\n",
    "from sklearn import linear_model\n",
    "import sklearn.metrics as sklm"
   ]
  },
  {
   "cell_type": "code",
   "execution_count": 32,
   "metadata": {},
   "outputs": [],
   "source": [
    "def encode_string(cat_features):\n",
    "    ## First encode the strings to numeric categories\n",
    "    enc = preprocessing.LabelEncoder()\n",
    "    enc.fit(cat_features)\n",
    "    enc_cat_features = enc.transform(cat_features)\n",
    "    ## Now, apply one hot encoding\n",
    "    ohe = preprocessing.OneHotEncoder()\n",
    "    encoded = ohe.fit(enc_cat_features.reshape(-1,1))\n",
    "    return encoded.transform(enc_cat_features.reshape(-1,1)).toarray()"
   ]
  },
  {
   "cell_type": "code",
   "execution_count": 33,
   "metadata": {},
   "outputs": [
    {
     "name": "stdout",
     "output_type": "stream",
     "text": [
      "            Age AgeGroup  YearlyIncome StateProvinceName PostalCode  \\\n",
      "CustomerID                                                            \n",
      "11000        31    25-45        137947        Queensland       4700   \n",
      "11001        32    25-45        101141          Victoria       3198   \n",
      "11002        32    25-45         91945          Tasmania       7001   \n",
      "11003        29    25-45         86688   New South Wales       2113   \n",
      "11004        29    25-45         92771   New South Wales       2500   \n",
      "\n",
      "             Education    Occupation Gender MaritalStatus HomeOwnerFlag  \\\n",
      "CustomerID                                                                \n",
      "11000       Bachelors   Professional      M             M             1   \n",
      "11001       Bachelors   Professional      M             S             0   \n",
      "11002       Bachelors   Professional      M             M             1   \n",
      "11003       Bachelors   Professional      F             S             0   \n",
      "11004       Bachelors   Professional      F             S             1   \n",
      "\n",
      "            NumberCarsOwned  NumberChildrenAtHome  TotalChildren  \\\n",
      "CustomerID                                                         \n",
      "11000                     0                     0              2   \n",
      "11001                     1                     3              3   \n",
      "11002                     1                     3              3   \n",
      "11003                     1                     0              0   \n",
      "11004                     4                     5              5   \n",
      "\n",
      "            AveMonthSpend BikeBuyer  \n",
      "CustomerID                           \n",
      "11000                  89         0  \n",
      "11001                 117         1  \n",
      "11002                 123         0  \n",
      "11003                  50         0  \n",
      "11004                  95         1  \n",
      "Index(['Age', 'AgeGroup', 'YearlyIncome', 'StateProvinceName', 'PostalCode',\n",
      "       'Education', 'Occupation', 'Gender', 'MaritalStatus', 'HomeOwnerFlag',\n",
      "       'NumberCarsOwned', 'NumberChildrenAtHome', 'TotalChildren',\n",
      "       'AveMonthSpend', 'BikeBuyer'],\n",
      "      dtype='object')\n"
     ]
    }
   ],
   "source": [
    "print(df_joined.head())\n",
    "print(df_joined.columns)\n"
   ]
  },
  {
   "cell_type": "code",
   "execution_count": 34,
   "metadata": {},
   "outputs": [],
   "source": [
    "labels = np.array(df_joined['BikeBuyer'])"
   ]
  },
  {
   "cell_type": "code",
   "execution_count": 35,
   "metadata": {},
   "outputs": [
    {
     "data": {
      "text/html": [
       "<div>\n",
       "<style scoped>\n",
       "    .dataframe tbody tr th:only-of-type {\n",
       "        vertical-align: middle;\n",
       "    }\n",
       "\n",
       "    .dataframe tbody tr th {\n",
       "        vertical-align: top;\n",
       "    }\n",
       "\n",
       "    .dataframe thead th {\n",
       "        text-align: right;\n",
       "    }\n",
       "</style>\n",
       "<table border=\"1\" class=\"dataframe\">\n",
       "  <thead>\n",
       "    <tr style=\"text-align: right;\">\n",
       "      <th></th>\n",
       "      <th>YearlyIncome</th>\n",
       "      <th>MaritalStatus</th>\n",
       "      <th>Gender</th>\n",
       "      <th>NumberCarsOwned</th>\n",
       "      <th>Age</th>\n",
       "      <th>AveMonthSpend</th>\n",
       "    </tr>\n",
       "    <tr>\n",
       "      <th>CustomerID</th>\n",
       "      <th></th>\n",
       "      <th></th>\n",
       "      <th></th>\n",
       "      <th></th>\n",
       "      <th></th>\n",
       "      <th></th>\n",
       "    </tr>\n",
       "  </thead>\n",
       "  <tbody>\n",
       "    <tr>\n",
       "      <th>11000</th>\n",
       "      <td>137947</td>\n",
       "      <td>M</td>\n",
       "      <td>M</td>\n",
       "      <td>0</td>\n",
       "      <td>31</td>\n",
       "      <td>89</td>\n",
       "    </tr>\n",
       "    <tr>\n",
       "      <th>11001</th>\n",
       "      <td>101141</td>\n",
       "      <td>S</td>\n",
       "      <td>M</td>\n",
       "      <td>1</td>\n",
       "      <td>32</td>\n",
       "      <td>117</td>\n",
       "    </tr>\n",
       "    <tr>\n",
       "      <th>11002</th>\n",
       "      <td>91945</td>\n",
       "      <td>M</td>\n",
       "      <td>M</td>\n",
       "      <td>1</td>\n",
       "      <td>32</td>\n",
       "      <td>123</td>\n",
       "    </tr>\n",
       "    <tr>\n",
       "      <th>11003</th>\n",
       "      <td>86688</td>\n",
       "      <td>S</td>\n",
       "      <td>F</td>\n",
       "      <td>1</td>\n",
       "      <td>29</td>\n",
       "      <td>50</td>\n",
       "    </tr>\n",
       "    <tr>\n",
       "      <th>11004</th>\n",
       "      <td>92771</td>\n",
       "      <td>S</td>\n",
       "      <td>F</td>\n",
       "      <td>4</td>\n",
       "      <td>29</td>\n",
       "      <td>95</td>\n",
       "    </tr>\n",
       "  </tbody>\n",
       "</table>\n",
       "</div>"
      ],
      "text/plain": [
       "            YearlyIncome MaritalStatus Gender  NumberCarsOwned  Age  \\\n",
       "CustomerID                                                            \n",
       "11000             137947             M      M                0   31   \n",
       "11001             101141             S      M                1   32   \n",
       "11002              91945             M      M                1   32   \n",
       "11003              86688             S      F                1   29   \n",
       "11004              92771             S      F                4   29   \n",
       "\n",
       "            AveMonthSpend  \n",
       "CustomerID                 \n",
       "11000                  89  \n",
       "11001                 117  \n",
       "11002                 123  \n",
       "11003                  50  \n",
       "11004                  95  "
      ]
     },
     "execution_count": 35,
     "metadata": {},
     "output_type": "execute_result"
    }
   ],
   "source": [
    "df_joined[[\"YearlyIncome\",\"MaritalStatus\", \"Gender\", \"NumberCarsOwned\", \"Age\", \"AveMonthSpend\"]].head()"
   ]
  },
  {
   "cell_type": "code",
   "execution_count": 36,
   "metadata": {},
   "outputs": [],
   "source": [
    "cols = [\"MaritalStatus\", \"Gender\"]\n",
    "encoded = encode_string(cat_features=cols)\n"
   ]
  },
  {
   "cell_type": "code",
   "execution_count": 37,
   "metadata": {},
   "outputs": [
    {
     "ename": "TypeError",
     "evalue": "plot_box() got an unexpected keyword argument 'col_y'",
     "output_type": "error",
     "traceback": [
      "\u001b[1;31m---------------------------------------------------------------------------\u001b[0m",
      "\u001b[1;31mTypeError\u001b[0m                                 Traceback (most recent call last)",
      "\u001b[1;32m<ipython-input-37-ee41f2bfbbe4>\u001b[0m in \u001b[0;36m<module>\u001b[1;34m()\u001b[0m\n\u001b[0;32m      1\u001b[0m \u001b[0mcat_cols\u001b[0m \u001b[1;33m=\u001b[0m \u001b[1;33m[\u001b[0m\u001b[1;34m'BikeBuyer'\u001b[0m\u001b[1;33m]\u001b[0m\u001b[1;33m\u001b[0m\u001b[0m\n\u001b[1;32m----> 2\u001b[1;33m \u001b[0mplot_box\u001b[0m\u001b[1;33m(\u001b[0m\u001b[0mdf_joined\u001b[0m\u001b[1;33m,\u001b[0m \u001b[0mcat_cols\u001b[0m\u001b[1;33m,\u001b[0m \u001b[0mcol_y\u001b[0m\u001b[1;33m=\u001b[0m\u001b[1;34m\"AveMonthSpend\"\u001b[0m\u001b[1;33m)\u001b[0m\u001b[1;33m\u001b[0m\u001b[0m\n\u001b[0m",
      "\u001b[1;31mTypeError\u001b[0m: plot_box() got an unexpected keyword argument 'col_y'"
     ]
    }
   ],
   "source": [
    "cat_cols = ['BikeBuyer']\n",
    "plot_box(df_joined, cat_cols, col_y=\"AveMonthSpend\")"
   ]
  },
  {
   "cell_type": "code",
   "execution_count": null,
   "metadata": {},
   "outputs": [],
   "source": [
    "encoded"
   ]
  },
  {
   "cell_type": "code",
   "execution_count": null,
   "metadata": {},
   "outputs": [],
   "source": [
    "sns.barplot(data=df_joined[[\"AgeGroup\", \"AveMonthSpend\", \"Gender\"]], y=\"AveMonthSpend\", x=\"AgeGroup\", hue=\"Gender\")"
   ]
  },
  {
   "cell_type": "code",
   "execution_count": null,
   "metadata": {},
   "outputs": [],
   "source": [
    "Features = encode_string(df_joined['MaritalStatus'])\n",
    "temp = encode_string(df_joined['Gender'])\n",
    "Features = np.concatenate([Features, temp], axis = 1)\n"
   ]
  },
  {
   "cell_type": "code",
   "execution_count": null,
   "metadata": {},
   "outputs": [],
   "source": [
    "Features.shape"
   ]
  },
  {
   "cell_type": "code",
   "execution_count": null,
   "metadata": {},
   "outputs": [],
   "source": [
    "df_joined.shape"
   ]
  },
  {
   "cell_type": "code",
   "execution_count": null,
   "metadata": {},
   "outputs": [],
   "source": [
    "Features = np.concatenate([Features, np.array(df_joined[[\"YearlyIncome\",\"Age\", \"AveMonthSpend\", \"NumberCarsOwned\"]])], axis = 1)"
   ]
  },
  {
   "cell_type": "code",
   "execution_count": null,
   "metadata": {},
   "outputs": [],
   "source": [
    "Features[:20, :]"
   ]
  },
  {
   "cell_type": "code",
   "execution_count": null,
   "metadata": {},
   "outputs": [],
   "source": [
    "nr.seed(9988)\n",
    "size = (int(Features.shape[0] * 0.3))\n",
    "indx = range(Features.shape[0])\n",
    "indx = ms.train_test_split(indx, test_size = size)\n",
    "X_train = Features[indx[0],:]\n",
    "y_train = np.ravel(labels[indx[0]])\n",
    "X_test = Features[indx[1],:]\n",
    "y_test = np.ravel(labels[indx[1]])\n",
    "X_train[:10]"
   ]
  },
  {
   "cell_type": "code",
   "execution_count": null,
   "metadata": {},
   "outputs": [],
   "source": [
    "scaler = preprocessing.StandardScaler().fit(X_train[:,4:])\n",
    "X_train[:,4:] = scaler.transform(X_train[:,4:])\n",
    "X_test[:,4:] = scaler.transform(X_test[:,4:])\n",
    "X_train[:10,]"
   ]
  },
  {
   "cell_type": "code",
   "execution_count": null,
   "metadata": {
    "scrolled": false
   },
   "outputs": [],
   "source": [
    "sns.pairplot(pd.DataFrame(X_train))"
   ]
  },
  {
   "cell_type": "code",
   "execution_count": null,
   "metadata": {
    "scrolled": false
   },
   "outputs": [],
   "source": [
    "sns.pairplot(pd.DataFrame(X_train[:,4:7]))"
   ]
  },
  {
   "cell_type": "code",
   "execution_count": null,
   "metadata": {},
   "outputs": [],
   "source": [
    "import sklearn.metrics as sklm\n",
    "import sklearn.decomposition as skde"
   ]
  },
  {
   "cell_type": "code",
   "execution_count": null,
   "metadata": {},
   "outputs": [],
   "source": [
    "pca_model = skde.PCA()\n",
    "pca_fit = pca_model.fit(X_train[:,4:7])\n",
    "print(pca_fit.explained_variance_ratio_)"
   ]
  },
  {
   "cell_type": "code",
   "execution_count": null,
   "metadata": {},
   "outputs": [],
   "source": [
    "transformed_X = pca_fit.transform(X_train[:,4:7])\n",
    "transformed_X = np.concatenate([X_train[:,0:4], transformed_X,X_train[:,7:]], axis=1)\n",
    "print(X_train.shape)\n",
    "print(transformed_X.shape)\n",
    "sns.pairplot(pd.DataFrame(transformed_X))"
   ]
  }
 ],
 "metadata": {
  "kernelspec": {
   "display_name": "Python 3",
   "language": "python",
   "name": "python3"
  },
  "language_info": {
   "codemirror_mode": {
    "name": "ipython",
    "version": 3
   },
   "file_extension": ".py",
   "mimetype": "text/x-python",
   "name": "python",
   "nbconvert_exporter": "python",
   "pygments_lexer": "ipython3",
   "version": "3.6.6"
  }
 },
 "nbformat": 4,
 "nbformat_minor": 2
}
